{
 "cells": [
  {
   "cell_type": "code",
   "execution_count": 1,
   "id": "72b8be49-7d13-4503-9cd6-b23dd0287756",
   "metadata": {},
   "outputs": [],
   "source": [
    "import numpy as np\n",
    "import pandas as pd\n",
    "from matplotlib import pyplot as plt\n",
    "import seaborn as sns\n",
    "%matplotlib inline"
   ]
  },
  {
   "cell_type": "code",
   "execution_count": 2,
   "id": "0931b49c-b030-4642-85bf-0dc5e2625581",
   "metadata": {},
   "outputs": [],
   "source": [
    "df = pd.read_csv(\"7-multiplegradesdataset.csv\")"
   ]
  },
  {
   "cell_type": "code",
   "execution_count": 3,
   "id": "5b37f6c2-c323-4492-ac64-97e1dbc6c7e0",
   "metadata": {},
   "outputs": [
    {
     "data": {
      "text/html": [
       "<div>\n",
       "<style scoped>\n",
       "    .dataframe tbody tr th:only-of-type {\n",
       "        vertical-align: middle;\n",
       "    }\n",
       "\n",
       "    .dataframe tbody tr th {\n",
       "        vertical-align: top;\n",
       "    }\n",
       "\n",
       "    .dataframe thead th {\n",
       "        text-align: right;\n",
       "    }\n",
       "</style>\n",
       "<table border=\"1\" class=\"dataframe\">\n",
       "  <thead>\n",
       "    <tr style=\"text-align: right;\">\n",
       "      <th></th>\n",
       "      <th>Study Hours</th>\n",
       "      <th>Sleep Hours</th>\n",
       "      <th>Attendance Rate</th>\n",
       "      <th>Social Media Hours</th>\n",
       "      <th>Exam Score</th>\n",
       "    </tr>\n",
       "  </thead>\n",
       "  <tbody>\n",
       "    <tr>\n",
       "      <th>0</th>\n",
       "      <td>4.7</td>\n",
       "      <td>7.3</td>\n",
       "      <td>82.9</td>\n",
       "      <td>3.3</td>\n",
       "      <td>80.7</td>\n",
       "    </tr>\n",
       "    <tr>\n",
       "      <th>1</th>\n",
       "      <td>3.8</td>\n",
       "      <td>6.6</td>\n",
       "      <td>87.9</td>\n",
       "      <td>3.3</td>\n",
       "      <td>76.0</td>\n",
       "    </tr>\n",
       "    <tr>\n",
       "      <th>2</th>\n",
       "      <td>5.0</td>\n",
       "      <td>6.3</td>\n",
       "      <td>88.3</td>\n",
       "      <td>2.3</td>\n",
       "      <td>89.1</td>\n",
       "    </tr>\n",
       "    <tr>\n",
       "      <th>3</th>\n",
       "      <td>6.3</td>\n",
       "      <td>7.6</td>\n",
       "      <td>86.0</td>\n",
       "      <td>3.2</td>\n",
       "      <td>95.9</td>\n",
       "    </tr>\n",
       "    <tr>\n",
       "      <th>4</th>\n",
       "      <td>3.6</td>\n",
       "      <td>8.0</td>\n",
       "      <td>89.2</td>\n",
       "      <td>3.3</td>\n",
       "      <td>70.5</td>\n",
       "    </tr>\n",
       "  </tbody>\n",
       "</table>\n",
       "</div>"
      ],
      "text/plain": [
       "   Study Hours  Sleep Hours  Attendance Rate  Social Media Hours  Exam Score\n",
       "0          4.7          7.3             82.9                 3.3        80.7\n",
       "1          3.8          6.6             87.9                 3.3        76.0\n",
       "2          5.0          6.3             88.3                 2.3        89.1\n",
       "3          6.3          7.6             86.0                 3.2        95.9\n",
       "4          3.6          8.0             89.2                 3.3        70.5"
      ]
     },
     "execution_count": 3,
     "metadata": {},
     "output_type": "execute_result"
    }
   ],
   "source": [
    "df.head()"
   ]
  },
  {
   "cell_type": "code",
   "execution_count": 4,
   "id": "98c4f201-4165-4c7b-9cbf-49193747d6ae",
   "metadata": {},
   "outputs": [
    {
     "data": {
      "text/html": [
       "<div>\n",
       "<style scoped>\n",
       "    .dataframe tbody tr th:only-of-type {\n",
       "        vertical-align: middle;\n",
       "    }\n",
       "\n",
       "    .dataframe tbody tr th {\n",
       "        vertical-align: top;\n",
       "    }\n",
       "\n",
       "    .dataframe thead th {\n",
       "        text-align: right;\n",
       "    }\n",
       "</style>\n",
       "<table border=\"1\" class=\"dataframe\">\n",
       "  <thead>\n",
       "    <tr style=\"text-align: right;\">\n",
       "      <th></th>\n",
       "      <th>Study Hours</th>\n",
       "      <th>Sleep Hours</th>\n",
       "      <th>Attendance Rate</th>\n",
       "      <th>Social Media Hours</th>\n",
       "      <th>Exam Score</th>\n",
       "    </tr>\n",
       "  </thead>\n",
       "  <tbody>\n",
       "    <tr>\n",
       "      <th>count</th>\n",
       "      <td>50.00000</td>\n",
       "      <td>50.000000</td>\n",
       "      <td>50.000000</td>\n",
       "      <td>50.00000</td>\n",
       "      <td>50.00000</td>\n",
       "    </tr>\n",
       "    <tr>\n",
       "      <th>mean</th>\n",
       "      <td>3.66800</td>\n",
       "      <td>7.022000</td>\n",
       "      <td>89.736000</td>\n",
       "      <td>3.09000</td>\n",
       "      <td>76.07000</td>\n",
       "    </tr>\n",
       "    <tr>\n",
       "      <th>std</th>\n",
       "      <td>1.40123</td>\n",
       "      <td>0.874419</td>\n",
       "      <td>4.924813</td>\n",
       "      <td>0.89699</td>\n",
       "      <td>11.70915</td>\n",
       "    </tr>\n",
       "    <tr>\n",
       "      <th>min</th>\n",
       "      <td>1.10000</td>\n",
       "      <td>4.400000</td>\n",
       "      <td>80.400000</td>\n",
       "      <td>1.50000</td>\n",
       "      <td>56.90000</td>\n",
       "    </tr>\n",
       "    <tr>\n",
       "      <th>25%</th>\n",
       "      <td>2.67500</td>\n",
       "      <td>6.500000</td>\n",
       "      <td>85.625000</td>\n",
       "      <td>2.22500</td>\n",
       "      <td>68.07500</td>\n",
       "    </tr>\n",
       "    <tr>\n",
       "      <th>50%</th>\n",
       "      <td>3.60000</td>\n",
       "      <td>7.050000</td>\n",
       "      <td>90.100000</td>\n",
       "      <td>3.20000</td>\n",
       "      <td>73.55000</td>\n",
       "    </tr>\n",
       "    <tr>\n",
       "      <th>75%</th>\n",
       "      <td>4.50000</td>\n",
       "      <td>7.575000</td>\n",
       "      <td>92.550000</td>\n",
       "      <td>3.57500</td>\n",
       "      <td>84.17500</td>\n",
       "    </tr>\n",
       "    <tr>\n",
       "      <th>max</th>\n",
       "      <td>6.80000</td>\n",
       "      <td>8.600000</td>\n",
       "      <td>100.000000</td>\n",
       "      <td>5.70000</td>\n",
       "      <td>100.00000</td>\n",
       "    </tr>\n",
       "  </tbody>\n",
       "</table>\n",
       "</div>"
      ],
      "text/plain": [
       "       Study Hours  Sleep Hours  Attendance Rate  Social Media Hours  \\\n",
       "count     50.00000    50.000000        50.000000            50.00000   \n",
       "mean       3.66800     7.022000        89.736000             3.09000   \n",
       "std        1.40123     0.874419         4.924813             0.89699   \n",
       "min        1.10000     4.400000        80.400000             1.50000   \n",
       "25%        2.67500     6.500000        85.625000             2.22500   \n",
       "50%        3.60000     7.050000        90.100000             3.20000   \n",
       "75%        4.50000     7.575000        92.550000             3.57500   \n",
       "max        6.80000     8.600000       100.000000             5.70000   \n",
       "\n",
       "       Exam Score  \n",
       "count    50.00000  \n",
       "mean     76.07000  \n",
       "std      11.70915  \n",
       "min      56.90000  \n",
       "25%      68.07500  \n",
       "50%      73.55000  \n",
       "75%      84.17500  \n",
       "max     100.00000  "
      ]
     },
     "execution_count": 4,
     "metadata": {},
     "output_type": "execute_result"
    }
   ],
   "source": [
    "df.describe()"
   ]
  },
  {
   "cell_type": "code",
   "execution_count": 5,
   "id": "b37ed0b9-a184-47f1-8ab8-77b8dfc131dd",
   "metadata": {},
   "outputs": [
    {
     "name": "stdout",
     "output_type": "stream",
     "text": [
      "<class 'pandas.core.frame.DataFrame'>\n",
      "RangeIndex: 50 entries, 0 to 49\n",
      "Data columns (total 5 columns):\n",
      " #   Column              Non-Null Count  Dtype  \n",
      "---  ------              --------------  -----  \n",
      " 0   Study Hours         50 non-null     float64\n",
      " 1   Sleep Hours         50 non-null     float64\n",
      " 2   Attendance Rate     50 non-null     float64\n",
      " 3   Social Media Hours  50 non-null     float64\n",
      " 4   Exam Score          50 non-null     float64\n",
      "dtypes: float64(5)\n",
      "memory usage: 2.1 KB\n"
     ]
    }
   ],
   "source": [
    "df.info()"
   ]
  },
  {
   "cell_type": "code",
   "execution_count": 6,
   "id": "ed74bf1f-dc29-4a8d-98d1-ea77de811276",
   "metadata": {},
   "outputs": [
    {
     "data": {
      "text/plain": [
       "Study Hours           0\n",
       "Sleep Hours           0\n",
       "Attendance Rate       0\n",
       "Social Media Hours    0\n",
       "Exam Score            0\n",
       "dtype: int64"
      ]
     },
     "execution_count": 6,
     "metadata": {},
     "output_type": "execute_result"
    }
   ],
   "source": [
    "df.isnull().sum()"
   ]
  },
  {
   "cell_type": "markdown",
   "id": "29a70709-1253-4a40-9db0-439a4553eb46",
   "metadata": {},
   "source": [
    "Buradan gördüğümüz üzere datasetimiz içerisinde boş olan hücre vs bulunmuyor."
   ]
  },
  {
   "cell_type": "markdown",
   "id": "e632ed54-2db9-4e4e-aa38-3ee712e4651a",
   "metadata": {},
   "source": [
    "# BAĞIMSIZ DEĞİŞKENLERİN BİRBİRLERİYLE OLAN İLİŞKİSİ VE KORELASYONU"
   ]
  },
  {
   "cell_type": "code",
   "execution_count": 7,
   "id": "404bdab2-ab41-4c5d-badd-291c73788916",
   "metadata": {},
   "outputs": [
    {
     "data": {
      "image/png": "[encoded data removed]",
      "text/plain": [
       "<Figure size 1250x1250 with 30 Axes>"
      ]
     },
     "metadata": {},
     "output_type": "display_data"
    }
   ],
   "source": [
    "sns.pairplot(df)\n",
    "plt.show()"
   ]
  },
  {
   "cell_type": "markdown",
   "id": "82053a74-a7c2-4386-bd4b-aaa68070dc77",
   "metadata": {},
   "source": [
    "Buradan bakarak örneğin Exam Score ile Study Hours arasında olan doğru ilişkiyi net göreebiliyoruz. Social Media Hours ile Exam Score arasında ise tam olarak net belli olmasa da ters bir ilişki olduğu gözüküyor. Bunların korelasyonlarına bakarak da pozitif veya negatif ilişki tanımı yapılabilir."
   ]
  },
  {
   "cell_type": "code",
   "execution_count": 8,
   "id": "2ee3e29c-8443-4a3b-9437-a4121d3b282c",
   "metadata": {},
   "outputs": [
    {
     "data": {
      "text/html": [
       "<div>\n",
       "<style scoped>\n",
       "    .dataframe tbody tr th:only-of-type {\n",
       "        vertical-align: middle;\n",
       "    }\n",
       "\n",
       "    .dataframe tbody tr th {\n",
       "        vertical-align: top;\n",
       "    }\n",
       "\n",
       "    .dataframe thead th {\n",
       "        text-align: right;\n",
       "    }\n",
       "</style>\n",
       "<table border=\"1\" class=\"dataframe\">\n",
       "  <thead>\n",
       "    <tr style=\"text-align: right;\">\n",
       "      <th></th>\n",
       "      <th>Study Hours</th>\n",
       "      <th>Sleep Hours</th>\n",
       "      <th>Attendance Rate</th>\n",
       "      <th>Social Media Hours</th>\n",
       "      <th>Exam Score</th>\n",
       "    </tr>\n",
       "  </thead>\n",
       "  <tbody>\n",
       "    <tr>\n",
       "      <th>Study Hours</th>\n",
       "      <td>1.000000</td>\n",
       "      <td>0.114015</td>\n",
       "      <td>-0.112860</td>\n",
       "      <td>0.115023</td>\n",
       "      <td>0.804266</td>\n",
       "    </tr>\n",
       "    <tr>\n",
       "      <th>Sleep Hours</th>\n",
       "      <td>0.114015</td>\n",
       "      <td>1.000000</td>\n",
       "      <td>-0.222024</td>\n",
       "      <td>-0.177166</td>\n",
       "      <td>0.227694</td>\n",
       "    </tr>\n",
       "    <tr>\n",
       "      <th>Attendance Rate</th>\n",
       "      <td>-0.112860</td>\n",
       "      <td>-0.222024</td>\n",
       "      <td>1.000000</td>\n",
       "      <td>0.068272</td>\n",
       "      <td>0.123791</td>\n",
       "    </tr>\n",
       "    <tr>\n",
       "      <th>Social Media Hours</th>\n",
       "      <td>0.115023</td>\n",
       "      <td>-0.177166</td>\n",
       "      <td>0.068272</td>\n",
       "      <td>1.000000</td>\n",
       "      <td>-0.248743</td>\n",
       "    </tr>\n",
       "    <tr>\n",
       "      <th>Exam Score</th>\n",
       "      <td>0.804266</td>\n",
       "      <td>0.227694</td>\n",
       "      <td>0.123791</td>\n",
       "      <td>-0.248743</td>\n",
       "      <td>1.000000</td>\n",
       "    </tr>\n",
       "  </tbody>\n",
       "</table>\n",
       "</div>"
      ],
      "text/plain": [
       "                    Study Hours  Sleep Hours  Attendance Rate  \\\n",
       "Study Hours            1.000000     0.114015        -0.112860   \n",
       "Sleep Hours            0.114015     1.000000        -0.222024   \n",
       "Attendance Rate       -0.112860    -0.222024         1.000000   \n",
       "Social Media Hours     0.115023    -0.177166         0.068272   \n",
       "Exam Score             0.804266     0.227694         0.123791   \n",
       "\n",
       "                    Social Media Hours  Exam Score  \n",
       "Study Hours                   0.115023    0.804266  \n",
       "Sleep Hours                  -0.177166    0.227694  \n",
       "Attendance Rate               0.068272    0.123791  \n",
       "Social Media Hours            1.000000   -0.248743  \n",
       "Exam Score                   -0.248743    1.000000  "
      ]
     },
     "execution_count": 8,
     "metadata": {},
     "output_type": "execute_result"
    }
   ],
   "source": [
    "df.corr()"
   ]
  },
  {
   "cell_type": "markdown",
   "id": "166bdbd9-bb3c-4d65-9ee9-b48ac2b4823b",
   "metadata": {},
   "source": [
    "İki kolon arasındaki ilişkiyi ve ortalarından geçen çizgiyi de aşağıdaki yöntemle görebiliriz."
   ]
  },
  {
   "cell_type": "code",
   "execution_count": 11,
   "id": "2a8d4b4c-9b35-43f4-9036-41263760f46a",
   "metadata": {},
   "outputs": [
    {
     "data": {
      "image/png": "[encoded data removed]",
      "text/plain": [
       "<Figure size 640x480 with 1 Axes>"
      ]
     },
     "metadata": {},
     "output_type": "display_data"
    }
   ],
   "source": [
    "sns.regplot(x = df[\"Study Hours\"], y = df[\"Exam Score\"])\n",
    "plt.show()"
   ]
  },
  {
   "cell_type": "markdown",
   "id": "b3ba9941-b71a-4632-80c6-ec2595bb0d39",
   "metadata": {},
   "source": [
    "----\n",
    "# MODEL EĞİTİM KISMI"
   ]
  },
  {
   "cell_type": "code",
   "execution_count": 14,
   "id": "067ad667-1682-44b7-8a09-96e2c6032b96",
   "metadata": {},
   "outputs": [],
   "source": [
    "# bağımsız ve bağımlı değişkenlerin ayarlanması\n",
    "# normalde aşağıdaki gibi yaparız.\n",
    "\n",
    "# X = df[[\"Study Hours\",\"Sleep Hours\",\"Attendance Rate\",\"Social Media Hours\"]]\n",
    "# y = df[\"Exam Score\"]\n",
    "\n",
    "# normalde böyle de yapabiliriz ama aşağıdaki gib bir yazım da görülebilir.\n",
    "\n",
    "X = df.iloc[:,:-1]    # Bu yazım kolonlardaki en son kolona kadar olanları al demek. Bunu sadece hedef değişken en sondaysa yapabiliriz.\n",
    "y = df.iloc[:,-1]    # Bu da en sondaki kolonu al demek."
   ]
  },
  {
   "cell_type": "code",
   "execution_count": 15,
   "id": "1f3ace2a-5444-497d-89c5-298992c9a429",
   "metadata": {},
   "outputs": [
    {
     "data": {
      "text/html": [
       "<div>\n",
       "<style scoped>\n",
       "    .dataframe tbody tr th:only-of-type {\n",
       "        vertical-align: middle;\n",
       "    }\n",
       "\n",
       "    .dataframe tbody tr th {\n",
       "        vertical-align: top;\n",
       "    }\n",
       "\n",
       "    .dataframe thead th {\n",
       "        text-align: right;\n",
       "    }\n",
       "</style>\n",
       "<table border=\"1\" class=\"dataframe\">\n",
       "  <thead>\n",
       "    <tr style=\"text-align: right;\">\n",
       "      <th></th>\n",
       "      <th>Study Hours</th>\n",
       "      <th>Sleep Hours</th>\n",
       "      <th>Attendance Rate</th>\n",
       "      <th>Social Media Hours</th>\n",
       "    </tr>\n",
       "  </thead>\n",
       "  <tbody>\n",
       "    <tr>\n",
       "      <th>0</th>\n",
       "      <td>4.7</td>\n",
       "      <td>7.3</td>\n",
       "      <td>82.9</td>\n",
       "      <td>3.3</td>\n",
       "    </tr>\n",
       "    <tr>\n",
       "      <th>1</th>\n",
       "      <td>3.8</td>\n",
       "      <td>6.6</td>\n",
       "      <td>87.9</td>\n",
       "      <td>3.3</td>\n",
       "    </tr>\n",
       "    <tr>\n",
       "      <th>2</th>\n",
       "      <td>5.0</td>\n",
       "      <td>6.3</td>\n",
       "      <td>88.3</td>\n",
       "      <td>2.3</td>\n",
       "    </tr>\n",
       "    <tr>\n",
       "      <th>3</th>\n",
       "      <td>6.3</td>\n",
       "      <td>7.6</td>\n",
       "      <td>86.0</td>\n",
       "      <td>3.2</td>\n",
       "    </tr>\n",
       "    <tr>\n",
       "      <th>4</th>\n",
       "      <td>3.6</td>\n",
       "      <td>8.0</td>\n",
       "      <td>89.2</td>\n",
       "      <td>3.3</td>\n",
       "    </tr>\n",
       "  </tbody>\n",
       "</table>\n",
       "</div>"
      ],
      "text/plain": [
       "   Study Hours  Sleep Hours  Attendance Rate  Social Media Hours\n",
       "0          4.7          7.3             82.9                 3.3\n",
       "1          3.8          6.6             87.9                 3.3\n",
       "2          5.0          6.3             88.3                 2.3\n",
       "3          6.3          7.6             86.0                 3.2\n",
       "4          3.6          8.0             89.2                 3.3"
      ]
     },
     "execution_count": 15,
     "metadata": {},
     "output_type": "execute_result"
    }
   ],
   "source": [
    "X.head()"
   ]
  },
  {
   "cell_type": "code",
   "execution_count": 16,
   "id": "487796e3-8981-4c3a-84a2-5396e12dc359",
   "metadata": {},
   "outputs": [
    {
     "data": {
      "text/plain": [
       "0    80.7\n",
       "1    76.0\n",
       "2    89.1\n",
       "3    95.9\n",
       "4    70.5\n",
       "Name: Exam Score, dtype: float64"
      ]
     },
     "execution_count": 16,
     "metadata": {},
     "output_type": "execute_result"
    }
   ],
   "source": [
    "y.head()"
   ]
  },
  {
   "cell_type": "markdown",
   "id": "9974f503-8173-4936-adc7-1062d7fd34be",
   "metadata": {},
   "source": [
    "Gördüğümüz üzere ayırımları yaptık. Şimdi ise train ve test verilerini birbirinden ayıracağım."
   ]
  },
  {
   "cell_type": "code",
   "execution_count": 17,
   "id": "c6b2a369-1483-4afc-ab9b-db3517511557",
   "metadata": {},
   "outputs": [],
   "source": [
    "from sklearn.model_selection import train_test_split"
   ]
  },
  {
   "cell_type": "code",
   "execution_count": 18,
   "id": "eb83b283-a9f7-4fe6-b951-22647c4d5a59",
   "metadata": {},
   "outputs": [],
   "source": [
    "X_train, X_test, y_train, y_test = train_test_split(X, y, test_size=0.25, random_state=36)"
   ]
  },
  {
   "cell_type": "markdown",
   "id": "ef733680-0649-4041-8926-ca5efe9362f7",
   "metadata": {},
   "source": [
    "Şimdi ise standartlaştırma işlemini yapacağım."
   ]
  },
  {
   "cell_type": "code",
   "execution_count": 19,
   "id": "cf5cecda-d736-4346-8bbe-f86928c939d2",
   "metadata": {},
   "outputs": [],
   "source": [
    "from sklearn.preprocessing import StandardScaler"
   ]
  },
  {
   "cell_type": "code",
   "execution_count": 20,
   "id": "25e009ee-6a22-4b77-ab69-01734b5c6bef",
   "metadata": {},
   "outputs": [],
   "source": [
    "scaler = StandardScaler()"
   ]
  },
  {
   "cell_type": "code",
   "execution_count": 21,
   "id": "49763472-b5fb-4e81-8f3b-def53435d2a6",
   "metadata": {},
   "outputs": [],
   "source": [
    "X_train = scaler.fit_transform(X_train)\n",
    "X_test = scaler.transform(X_test)"
   ]
  },
  {
   "cell_type": "code",
   "execution_count": 22,
   "id": "e5d39fb3-1424-440e-b1bd-3d1410bd21b6",
   "metadata": {},
   "outputs": [
    {
     "data": {
      "text/plain": [
       "array([[ 0.39022114,  0.46500364, -1.20266743, -2.04149604],\n",
       "       [-0.34505665,  1.51837924,  0.34493849,  0.50313466],\n",
       "       [-0.34505665, -3.16329008,  0.62632138,  0.36920673],\n",
       "       [-0.54558696, -1.87583101,  0.82730916,  0.50313466],\n",
       "       [ 1.72708984,  0.58204537, -0.76049431,  0.2352788 ],\n",
       "       [-1.28086474, -0.58837195,  0.30474093,  0.2352788 ],\n",
       "       [-1.54823849, -0.35428849,  0.34493849, -1.50578432],\n",
       "       [ 1.25918579,  0.23092018, -1.28306254,  0.2352788 ],\n",
       "       [-0.01083948,  1.63542097, -0.8609882 , -1.10400052],\n",
       "       [-1.21402131,  1.7524627 , -1.36345765,  0.36920673],\n",
       "       [-1.74876879, -1.52470582,  2.05333463, -1.10400052],\n",
       "       [ 0.3233777 ,  0.81612884,  2.05333463,  1.03884639],\n",
       "       [-1.21402131, -0.82245542,  0.80721039, -1.10400052],\n",
       "       [-1.54823849,  0.81612884, -0.15753096,  1.30670225],\n",
       "       [-0.07768291,  1.0502123 , -0.11733341,  0.36920673],\n",
       "       [-0.41190009, -0.00316329,  0.14395071, -0.43436086],\n",
       "       [ 1.6602464 ,  0.34796191,  0.84740794, -1.23792845],\n",
       "       [ 0.52390801, -0.12020502,  0.56602505,  0.10135087],\n",
       "       [-0.14452635, -0.47133022,  0.22434582, -1.63971225],\n",
       "       [ 0.05600396, -0.58837195, -0.37861752,  0.36920673],\n",
       "       [ 0.05600396, -0.93949715, -1.56444543,  0.2352788 ],\n",
       "       [ 0.25653426, -0.12020502,  1.45037129, -0.166505  ],\n",
       "       [-0.27821322,  0.23092018, -1.20266743, -1.23792845],\n",
       "       [ 0.39022114,  1.0502123 ,  1.3498774 ,  1.17277432],\n",
       "       [ 2.06130702,  0.34796191,  0.10375315, -1.23792845],\n",
       "       [ 0.59075144, -0.47133022, -0.51930897,  1.97634191],\n",
       "       [ 0.65759488,  0.23092018, -1.38355643,  0.36920673],\n",
       "       [ 0.39022114,  0.93317057, -0.74039553,  0.6370626 ],\n",
       "       [ 1.79393327, -1.05653889,  1.93274196,  2.51205364],\n",
       "       [-1.74876879,  0.23092018, -0.27812363, -0.166505  ],\n",
       "       [ 0.72443831,  1.0502123 , -0.03693829,  0.90491846],\n",
       "       [-0.94664757, -0.00316329, -0.96148209, -0.03257706],\n",
       "       [-0.87980413, -0.70541369,  0.52582749,  0.6370626 ],\n",
       "       [ 0.92496862, -0.00316329,  0.26454338, -0.56828879],\n",
       "       [-0.41190009, -0.35428849, -1.52424788,  0.77099053],\n",
       "       [ 0.99181205, -1.05653889, -0.88108698, -0.30043293],\n",
       "       [-0.07768291,  0.93317057,  0.44543238, -0.97007259]])"
      ]
     },
     "execution_count": 22,
     "metadata": {},
     "output_type": "execute_result"
    }
   ],
   "source": [
    "X_train"
   ]
  },
  {
   "cell_type": "code",
   "execution_count": 23,
   "id": "0a7d5013-233e-47a5-871f-e52796a5c54c",
   "metadata": {},
   "outputs": [
    {
     "data": {
      "text/plain": [
       "array([[-7.76829112e-02, -2.46103968e+00, -4.59012636e-01,\n",
       "         3.58347710e+00],\n",
       "       [-2.78213217e-01, -3.54288488e-01,  2.33580394e-02,\n",
       "         1.03884639e+00],\n",
       "       [-7.46117263e-01,  3.47961908e-01,  1.18908717e+00,\n",
       "        -3.00432928e-01],\n",
       "       [ 1.89690830e-01,  1.63542097e+00, -1.02177842e+00,\n",
       "        -1.50578432e+00],\n",
       "       [ 4.57064570e-01, -1.40766408e+00,  1.03753152e-01,\n",
       "         1.57455812e+00],\n",
       "       [-1.01349100e+00, -7.05413687e-01,  1.59106273e+00,\n",
       "         9.04918459e-01],\n",
       "       [-1.14717787e+00, -7.05413687e-01,  8.67506721e-01,\n",
       "        -1.10400052e+00],\n",
       "       [-8.12960698e-01, -2.37246756e-01,  3.25926132e-03,\n",
       "         1.03884639e+00],\n",
       "       [ 8.58125182e-01, -9.39497152e-01, -2.98222411e-01,\n",
       "        -9.70072588e-01],\n",
       "       [-2.78213217e-01,  2.30920175e-01,  3.04740933e-01,\n",
       "        -1.63971225e+00],\n",
       "       [ 5.23908006e-01,  1.05021230e+00, -1.12227231e+00,\n",
       "         2.51205364e+00],\n",
       "       [ 9.91812052e-01, -4.71330221e-01,  2.24345821e-01,\n",
       "         6.37062595e-01],\n",
       "       [-2.78213217e-01, -7.05413687e-01, -1.88602588e+00,\n",
       "        -1.37185638e+00]])"
      ]
     },
     "execution_count": 23,
     "metadata": {},
     "output_type": "execute_result"
    }
   ],
   "source": [
    "X_test"
   ]
  },
  {
   "cell_type": "markdown",
   "id": "ec3c1acf-c396-4510-a57b-382d2bd1225b",
   "metadata": {},
   "source": [
    "Şimdi ise modelimizi eğitme kısmına geldik."
   ]
  },
  {
   "cell_type": "code",
   "execution_count": 24,
   "id": "6334d5f0-7dab-4768-a960-489c2c1c64ce",
   "metadata": {},
   "outputs": [],
   "source": [
    "from sklearn.linear_model import LinearRegression"
   ]
  },
  {
   "cell_type": "code",
   "execution_count": 25,
   "id": "ac7fadc2-dd07-456c-a4cb-5ecc70bf5ef1",
   "metadata": {},
   "outputs": [],
   "source": [
    "regression = LinearRegression()"
   ]
  },
  {
   "cell_type": "code",
   "execution_count": 26,
   "id": "1c8fa184-ba2a-4f7d-bae3-4d79e3fc7dbd",
   "metadata": {},
   "outputs": [
    {
     "data": {
      "text/html": [
       "<style>#sk-container-id-1 {\n",
       "  /* Definition of color scheme common for light and dark mode */\n",
       "  --sklearn-color-text: black;\n",
       "  --sklearn-color-line: gray;\n",
       "  /* Definition of color scheme for unfitted estimators */\n",
       "  --sklearn-color-unfitted-level-0: #fff5e6;\n",
       "  --sklearn-color-unfitted-level-1: #f6e4d2;\n",
       "  --sklearn-color-unfitted-level-2: #ffe0b3;\n",
       "  --sklearn-color-unfitted-level-3: chocolate;\n",
       "  /* Definition of color scheme for fitted estimators */\n",
       "  --sklearn-color-fitted-level-0: #f0f8ff;\n",
       "  --sklearn-color-fitted-level-1: #d4ebff;\n",
       "  --sklearn-color-fitted-level-2: #b3dbfd;\n",
       "  --sklearn-color-fitted-level-3: cornflowerblue;\n",
       "\n",
       "  /* Specific color for light theme */\n",
       "  --sklearn-color-text-on-default-background: var(--sg-text-color, var(--theme-code-foreground, var(--jp-content-font-color1, black)));\n",
       "  --sklearn-color-background: var(--sg-background-color, var(--theme-background, var(--jp-layout-color0, white)));\n",
       "  --sklearn-color-border-box: var(--sg-text-color, var(--theme-code-foreground, var(--jp-content-font-color1, black)));\n",
       "  --sklearn-color-icon: #696969;\n",
       "\n",
       "  @media (prefers-color-scheme: dark) {\n",
       "    /* Redefinition of color scheme for dark theme */\n",
       "    --sklearn-color-text-on-default-background: var(--sg-text-color, var(--theme-code-foreground, var(--jp-content-font-color1, white)));\n",
       "    --sklearn-color-background: var(--sg-background-color, var(--theme-background, var(--jp-layout-color0, #111)));\n",
       "    --sklearn-color-border-box: var(--sg-text-color, var(--theme-code-foreground, var(--jp-content-font-color1, white)));\n",
       "    --sklearn-color-icon: #878787;\n",
       "  }\n",
       "}\n",
       "\n",
       "#sk-container-id-1 {\n",
       "  color: var(--sklearn-color-text);\n",
       "}\n",
       "\n",
       "#sk-container-id-1 pre {\n",
       "  padding: 0;\n",
       "}\n",
       "\n",
       "#sk-container-id-1 input.sk-hidden--visually {\n",
       "  border: 0;\n",
       "  clip: rect(1px 1px 1px 1px);\n",
       "  clip: rect(1px, 1px, 1px, 1px);\n",
       "  height: 1px;\n",
       "  margin: -1px;\n",
       "  overflow: hidden;\n",
       "  padding: 0;\n",
       "  position: absolute;\n",
       "  width: 1px;\n",
       "}\n",
       "\n",
       "#sk-container-id-1 div.sk-dashed-wrapped {\n",
       "  border: 1px dashed var(--sklearn-color-line);\n",
       "  margin: 0 0.4em 0.5em 0.4em;\n",
       "  box-sizing: border-box;\n",
       "  padding-bottom: 0.4em;\n",
       "  background-color: var(--sklearn-color-background);\n",
       "}\n",
       "\n",
       "#sk-container-id-1 div.sk-container {\n",
       "  /* jupyter's `normalize.less` sets `[hidden] { display: none; }`\n",
       "     but bootstrap.min.css set `[hidden] { display: none !important; }`\n",
       "     so we also need the `!important` here to be able to override the\n",
       "     default hidden behavior on the sphinx rendered scikit-learn.org.\n",
       "     See: https://github.com/scikit-learn/scikit-learn/issues/21755 */\n",
       "  display: inline-block !important;\n",
       "  position: relative;\n",
       "}\n",
       "\n",
       "#sk-container-id-1 div.sk-text-repr-fallback {\n",
       "  display: none;\n",
       "}\n",
       "\n",
       "div.sk-parallel-item,\n",
       "div.sk-serial,\n",
       "div.sk-item {\n",
       "  /* draw centered vertical line to link estimators */\n",
       "  background-image: linear-gradient(var(--sklearn-color-text-on-default-background), var(--sklearn-color-text-on-default-background));\n",
       "  background-size: 2px 100%;\n",
       "  background-repeat: no-repeat;\n",
       "  background-position: center center;\n",
       "}\n",
       "\n",
       "/* Parallel-specific style estimator block */\n",
       "\n",
       "#sk-container-id-1 div.sk-parallel-item::after {\n",
       "  content: \"\";\n",
       "  width: 100%;\n",
       "  border-bottom: 2px solid var(--sklearn-color-text-on-default-background);\n",
       "  flex-grow: 1;\n",
       "}\n",
       "\n",
       "#sk-container-id-1 div.sk-parallel {\n",
       "  display: flex;\n",
       "  align-items: stretch;\n",
       "  justify-content: center;\n",
       "  background-color: var(--sklearn-color-background);\n",
       "  position: relative;\n",
       "}\n",
       "\n",
       "#sk-container-id-1 div.sk-parallel-item {\n",
       "  display: flex;\n",
       "  flex-direction: column;\n",
       "}\n",
       "\n",
       "#sk-container-id-1 div.sk-parallel-item:first-child::after {\n",
       "  align-self: flex-end;\n",
       "  width: 50%;\n",
       "}\n",
       "\n",
       "#sk-container-id-1 div.sk-parallel-item:last-child::after {\n",
       "  align-self: flex-start;\n",
       "  width: 50%;\n",
       "}\n",
       "\n",
       "#sk-container-id-1 div.sk-parallel-item:only-child::after {\n",
       "  width: 0;\n",
       "}\n",
       "\n",
       "/* Serial-specific style estimator block */\n",
       "\n",
       "#sk-container-id-1 div.sk-serial {\n",
       "  display: flex;\n",
       "  flex-direction: column;\n",
       "  align-items: center;\n",
       "  background-color: var(--sklearn-color-background);\n",
       "  padding-right: 1em;\n",
       "  padding-left: 1em;\n",
       "}\n",
       "\n",
       "\n",
       "/* Toggleable style: style used for estimator/Pipeline/ColumnTransformer box that is\n",
       "clickable and can be expanded/collapsed.\n",
       "- Pipeline and ColumnTransformer use this feature and define the default style\n",
       "- Estimators will overwrite some part of the style using the `sk-estimator` class\n",
       "*/\n",
       "\n",
       "/* Pipeline and ColumnTransformer style (default) */\n",
       "\n",
       "#sk-container-id-1 div.sk-toggleable {\n",
       "  /* Default theme specific background. It is overwritten whether we have a\n",
       "  specific estimator or a Pipeline/ColumnTransformer */\n",
       "  background-color: var(--sklearn-color-background);\n",
       "}\n",
       "\n",
       "/* Toggleable label */\n",
       "#sk-container-id-1 label.sk-toggleable__label {\n",
       "  cursor: pointer;\n",
       "  display: block;\n",
       "  width: 100%;\n",
       "  margin-bottom: 0;\n",
       "  padding: 0.5em;\n",
       "  box-sizing: border-box;\n",
       "  text-align: center;\n",
       "}\n",
       "\n",
       "#sk-container-id-1 label.sk-toggleable__label-arrow:before {\n",
       "  /* Arrow on the left of the label */\n",
       "  content: \"▸\";\n",
       "  float: left;\n",
       "  margin-right: 0.25em;\n",
       "  color: var(--sklearn-color-icon);\n",
       "}\n",
       "\n",
       "#sk-container-id-1 label.sk-toggleable__label-arrow:hover:before {\n",
       "  color: var(--sklearn-color-text);\n",
       "}\n",
       "\n",
       "/* Toggleable content - dropdown */\n",
       "\n",
       "#sk-container-id-1 div.sk-toggleable__content {\n",
       "  max-height: 0;\n",
       "  max-width: 0;\n",
       "  overflow: hidden;\n",
       "  text-align: left;\n",
       "  /* unfitted */\n",
       "  background-color: var(--sklearn-color-unfitted-level-0);\n",
       "}\n",
       "\n",
       "#sk-container-id-1 div.sk-toggleable__content.fitted {\n",
       "  /* fitted */\n",
       "  background-color: var(--sklearn-color-fitted-level-0);\n",
       "}\n",
       "\n",
       "#sk-container-id-1 div.sk-toggleable__content pre {\n",
       "  margin: 0.2em;\n",
       "  border-radius: 0.25em;\n",
       "  color: var(--sklearn-color-text);\n",
       "  /* unfitted */\n",
       "  background-color: var(--sklearn-color-unfitted-level-0);\n",
       "}\n",
       "\n",
       "#sk-container-id-1 div.sk-toggleable__content.fitted pre {\n",
       "  /* unfitted */\n",
       "  background-color: var(--sklearn-color-fitted-level-0);\n",
       "}\n",
       "\n",
       "#sk-container-id-1 input.sk-toggleable__control:checked~div.sk-toggleable__content {\n",
       "  /* Expand drop-down */\n",
       "  max-height: 200px;\n",
       "  max-width: 100%;\n",
       "  overflow: auto;\n",
       "}\n",
       "\n",
       "#sk-container-id-1 input.sk-toggleable__control:checked~label.sk-toggleable__label-arrow:before {\n",
       "  content: \"▾\";\n",
       "}\n",
       "\n",
       "/* Pipeline/ColumnTransformer-specific style */\n",
       "\n",
       "#sk-container-id-1 div.sk-label input.sk-toggleable__control:checked~label.sk-toggleable__label {\n",
       "  color: var(--sklearn-color-text);\n",
       "  background-color: var(--sklearn-color-unfitted-level-2);\n",
       "}\n",
       "\n",
       "#sk-container-id-1 div.sk-label.fitted input.sk-toggleable__control:checked~label.sk-toggleable__label {\n",
       "  background-color: var(--sklearn-color-fitted-level-2);\n",
       "}\n",
       "\n",
       "/* Estimator-specific style */\n",
       "\n",
       "/* Colorize estimator box */\n",
       "#sk-container-id-1 div.sk-estimator input.sk-toggleable__control:checked~label.sk-toggleable__label {\n",
       "  /* unfitted */\n",
       "  background-color: var(--sklearn-color-unfitted-level-2);\n",
       "}\n",
       "\n",
       "#sk-container-id-1 div.sk-estimator.fitted input.sk-toggleable__control:checked~label.sk-toggleable__label {\n",
       "  /* fitted */\n",
       "  background-color: var(--sklearn-color-fitted-level-2);\n",
       "}\n",
       "\n",
       "#sk-container-id-1 div.sk-label label.sk-toggleable__label,\n",
       "#sk-container-id-1 div.sk-label label {\n",
       "  /* The background is the default theme color */\n",
       "  color: var(--sklearn-color-text-on-default-background);\n",
       "}\n",
       "\n",
       "/* On hover, darken the color of the background */\n",
       "#sk-container-id-1 div.sk-label:hover label.sk-toggleable__label {\n",
       "  color: var(--sklearn-color-text);\n",
       "  background-color: var(--sklearn-color-unfitted-level-2);\n",
       "}\n",
       "\n",
       "/* Label box, darken color on hover, fitted */\n",
       "#sk-container-id-1 div.sk-label.fitted:hover label.sk-toggleable__label.fitted {\n",
       "  color: var(--sklearn-color-text);\n",
       "  background-color: var(--sklearn-color-fitted-level-2);\n",
       "}\n",
       "\n",
       "/* Estimator label */\n",
       "\n",
       "#sk-container-id-1 div.sk-label label {\n",
       "  font-family: monospace;\n",
       "  font-weight: bold;\n",
       "  display: inline-block;\n",
       "  line-height: 1.2em;\n",
       "}\n",
       "\n",
       "#sk-container-id-1 div.sk-label-container {\n",
       "  text-align: center;\n",
       "}\n",
       "\n",
       "/* Estimator-specific */\n",
       "#sk-container-id-1 div.sk-estimator {\n",
       "  font-family: monospace;\n",
       "  border: 1px dotted var(--sklearn-color-border-box);\n",
       "  border-radius: 0.25em;\n",
       "  box-sizing: border-box;\n",
       "  margin-bottom: 0.5em;\n",
       "  /* unfitted */\n",
       "  background-color: var(--sklearn-color-unfitted-level-0);\n",
       "}\n",
       "\n",
       "#sk-container-id-1 div.sk-estimator.fitted {\n",
       "  /* fitted */\n",
       "  background-color: var(--sklearn-color-fitted-level-0);\n",
       "}\n",
       "\n",
       "/* on hover */\n",
       "#sk-container-id-1 div.sk-estimator:hover {\n",
       "  /* unfitted */\n",
       "  background-color: var(--sklearn-color-unfitted-level-2);\n",
       "}\n",
       "\n",
       "#sk-container-id-1 div.sk-estimator.fitted:hover {\n",
       "  /* fitted */\n",
       "  background-color: var(--sklearn-color-fitted-level-2);\n",
       "}\n",
       "\n",
       "/* Specification for estimator info (e.g. \"i\" and \"?\") */\n",
       "\n",
       "/* Common style for \"i\" and \"?\" */\n",
       "\n",
       ".sk-estimator-doc-link,\n",
       "a:link.sk-estimator-doc-link,\n",
       "a:visited.sk-estimator-doc-link {\n",
       "  float: right;\n",
       "  font-size: smaller;\n",
       "  line-height: 1em;\n",
       "  font-family: monospace;\n",
       "  background-color: var(--sklearn-color-background);\n",
       "  border-radius: 1em;\n",
       "  height: 1em;\n",
       "  width: 1em;\n",
       "  text-decoration: none !important;\n",
       "  margin-left: 1ex;\n",
       "  /* unfitted */\n",
       "  border: var(--sklearn-color-unfitted-level-1) 1pt solid;\n",
       "  color: var(--sklearn-color-unfitted-level-1);\n",
       "}\n",
       "\n",
       ".sk-estimator-doc-link.fitted,\n",
       "a:link.sk-estimator-doc-link.fitted,\n",
       "a:visited.sk-estimator-doc-link.fitted {\n",
       "  /* fitted */\n",
       "  border: var(--sklearn-color-fitted-level-1) 1pt solid;\n",
       "  color: var(--sklearn-color-fitted-level-1);\n",
       "}\n",
       "\n",
       "/* On hover */\n",
       "div.sk-estimator:hover .sk-estimator-doc-link:hover,\n",
       ".sk-estimator-doc-link:hover,\n",
       "div.sk-label-container:hover .sk-estimator-doc-link:hover,\n",
       ".sk-estimator-doc-link:hover {\n",
       "  /* unfitted */\n",
       "  background-color: var(--sklearn-color-unfitted-level-3);\n",
       "  color: var(--sklearn-color-background);\n",
       "  text-decoration: none;\n",
       "}\n",
       "\n",
       "div.sk-estimator.fitted:hover .sk-estimator-doc-link.fitted:hover,\n",
       ".sk-estimator-doc-link.fitted:hover,\n",
       "div.sk-label-container:hover .sk-estimator-doc-link.fitted:hover,\n",
       ".sk-estimator-doc-link.fitted:hover {\n",
       "  /* fitted */\n",
       "  background-color: var(--sklearn-color-fitted-level-3);\n",
       "  color: var(--sklearn-color-background);\n",
       "  text-decoration: none;\n",
       "}\n",
       "\n",
       "/* Span, style for the box shown on hovering the info icon */\n",
       ".sk-estimator-doc-link span {\n",
       "  display: none;\n",
       "  z-index: 9999;\n",
       "  position: relative;\n",
       "  font-weight: normal;\n",
       "  right: .2ex;\n",
       "  padding: .5ex;\n",
       "  margin: .5ex;\n",
       "  width: min-content;\n",
       "  min-width: 20ex;\n",
       "  max-width: 50ex;\n",
       "  color: var(--sklearn-color-text);\n",
       "  box-shadow: 2pt 2pt 4pt #999;\n",
       "  /* unfitted */\n",
       "  background: var(--sklearn-color-unfitted-level-0);\n",
       "  border: .5pt solid var(--sklearn-color-unfitted-level-3);\n",
       "}\n",
       "\n",
       ".sk-estimator-doc-link.fitted span {\n",
       "  /* fitted */\n",
       "  background: var(--sklearn-color-fitted-level-0);\n",
       "  border: var(--sklearn-color-fitted-level-3);\n",
       "}\n",
       "\n",
       ".sk-estimator-doc-link:hover span {\n",
       "  display: block;\n",
       "}\n",
       "\n",
       "/* \"?\"-specific style due to the `<a>` HTML tag */\n",
       "\n",
       "#sk-container-id-1 a.estimator_doc_link {\n",
       "  float: right;\n",
       "  font-size: 1rem;\n",
       "  line-height: 1em;\n",
       "  font-family: monospace;\n",
       "  background-color: var(--sklearn-color-background);\n",
       "  border-radius: 1rem;\n",
       "  height: 1rem;\n",
       "  width: 1rem;\n",
       "  text-decoration: none;\n",
       "  /* unfitted */\n",
       "  color: var(--sklearn-color-unfitted-level-1);\n",
       "  border: var(--sklearn-color-unfitted-level-1) 1pt solid;\n",
       "}\n",
       "\n",
       "#sk-container-id-1 a.estimator_doc_link.fitted {\n",
       "  /* fitted */\n",
       "  border: var(--sklearn-color-fitted-level-1) 1pt solid;\n",
       "  color: var(--sklearn-color-fitted-level-1);\n",
       "}\n",
       "\n",
       "/* On hover */\n",
       "#sk-container-id-1 a.estimator_doc_link:hover {\n",
       "  /* unfitted */\n",
       "  background-color: var(--sklearn-color-unfitted-level-3);\n",
       "  color: var(--sklearn-color-background);\n",
       "  text-decoration: none;\n",
       "}\n",
       "\n",
       "#sk-container-id-1 a.estimator_doc_link.fitted:hover {\n",
       "  /* fitted */\n",
       "  background-color: var(--sklearn-color-fitted-level-3);\n",
       "}\n",
       "</style><div id=\"sk-container-id-1\" class=\"sk-top-container\"><div class=\"sk-text-repr-fallback\"><pre>LinearRegression()</pre><b>In a Jupyter environment, please rerun this cell to show the HTML representation or trust the notebook. <br />On GitHub, the HTML representation is unable to render, please try loading this page with nbviewer.org.</b></div><div class=\"sk-container\" hidden><div class=\"sk-item\"><div class=\"sk-estimator fitted sk-toggleable\"><input class=\"sk-toggleable__control sk-hidden--visually\" id=\"sk-estimator-id-1\" type=\"checkbox\" checked><label for=\"sk-estimator-id-1\" class=\"sk-toggleable__label fitted sk-toggleable__label-arrow fitted\">&nbsp;&nbsp;LinearRegression<a class=\"sk-estimator-doc-link fitted\" rel=\"noreferrer\" target=\"_blank\" href=\"https://scikit-learn.org/1.5/modules/generated/sklearn.linear_model.LinearRegression.html\">?<span>Documentation for LinearRegression</span></a><span class=\"sk-estimator-doc-link fitted\">i<span>Fitted</span></span></label><div class=\"sk-toggleable__content fitted\"><pre>LinearRegression()</pre></div> </div></div></div></div>"
      ],
      "text/plain": [
       "LinearRegression()"
      ]
     },
     "execution_count": 26,
     "metadata": {},
     "output_type": "execute_result"
    }
   ],
   "source": [
    "regression.fit(X_train, y_train)"
   ]
  },
  {
   "cell_type": "markdown",
   "id": "70018549-597b-40c5-88d8-458491de0eb7",
   "metadata": {},
   "source": [
    "Şimdi ise ortaya çıkan model ile test yapalım."
   ]
  },
  {
   "cell_type": "code",
   "execution_count": 28,
   "id": "cfd31b31-0bfc-422d-b709-9645c3082e3b",
   "metadata": {},
   "outputs": [
    {
     "data": {
      "text/plain": [
       "Study Hours            4.7\n",
       "Sleep Hours            7.3\n",
       "Attendance Rate       82.9\n",
       "Social Media Hours     3.3\n",
       "Exam Score            80.7\n",
       "Name: 0, dtype: float64"
      ]
     },
     "execution_count": 28,
     "metadata": {},
     "output_type": "execute_result"
    }
   ],
   "source": [
    "df.iloc[0]    # Yazım şekline bakmak için bunu yaptım."
   ]
  },
  {
   "cell_type": "code",
   "execution_count": 29,
   "id": "4d65fa0d-60fe-4750-aded-39257bf03569",
   "metadata": {},
   "outputs": [
    {
     "data": {
      "text/plain": [
       "array([ 0.39022114,  0.46500364, -1.20266743, -2.04149604])"
      ]
     },
     "execution_count": 29,
     "metadata": {},
     "output_type": "execute_result"
    }
   ],
   "source": [
    "X_train[0]"
   ]
  },
  {
   "cell_type": "code",
   "execution_count": 33,
   "id": "f6b01b58-d3d1-47e5-9188-663dbcb0cf1f",
   "metadata": {},
   "outputs": [],
   "source": [
    "student = [[5, 7, 90, 4]]"
   ]
  },
  {
   "cell_type": "code",
   "execution_count": 34,
   "id": "bb6dd0e9-fb7a-4c52-9ec8-abf237e6476c",
   "metadata": {},
   "outputs": [
    {
     "name": "stderr",
     "output_type": "stream",
     "text": [
      "C:\\ProgramData\\anaconda3\\Lib\\site-packages\\sklearn\\base.py:493: UserWarning: X does not have valid feature names, but StandardScaler was fitted with feature names\n",
      "  warnings.warn(\n"
     ]
    },
    {
     "data": {
      "text/plain": [
       "array([80.90722053])"
      ]
     },
     "execution_count": 34,
     "metadata": {},
     "output_type": "execute_result"
    }
   ],
   "source": [
    "regression.predict(scaler.transform(student))"
   ]
  },
  {
   "cell_type": "markdown",
   "id": "9b65afe0-9c2c-4bf2-ad3d-04577b3b9fae",
   "metadata": {},
   "source": [
    "# MODEL BAŞARISI"
   ]
  },
  {
   "cell_type": "code",
   "execution_count": 35,
   "id": "8bef207a-baef-4e6f-9fe6-a6e2da4001e9",
   "metadata": {},
   "outputs": [],
   "source": [
    "y_pred = regression.predict(X_test)"
   ]
  },
  {
   "cell_type": "code",
   "execution_count": 36,
   "id": "dfefe518-81bc-4330-91c6-124dbd1b64ae",
   "metadata": {},
   "outputs": [
    {
     "data": {
      "text/plain": [
       "array([56.64527815, 69.29554222, 74.60615023, 83.36522544, 73.50159989,\n",
       "       66.91644793, 70.11420952, 63.76536939, 86.31977464, 80.99652768,\n",
       "       71.05701095, 84.71818491, 70.46034749])"
      ]
     },
     "execution_count": 36,
     "metadata": {},
     "output_type": "execute_result"
    }
   ],
   "source": [
    "y_pred"
   ]
  },
  {
   "cell_type": "code",
   "execution_count": 37,
   "id": "9f07f61d-3800-4b19-912d-8b7d23acfa75",
   "metadata": {},
   "outputs": [],
   "source": [
    "from sklearn.metrics import mean_absolute_error, mean_squared_error, r2_score"
   ]
  },
  {
   "cell_type": "code",
   "execution_count": 38,
   "id": "8f7dc26b-f51c-4385-bca4-9cb886324781",
   "metadata": {},
   "outputs": [
    {
     "name": "stdout",
     "output_type": "stream",
     "text": [
      "mean_squared_error:  9.928693715390134\n",
      "mean_absolute_error:  2.746906911153225\n"
     ]
    }
   ],
   "source": [
    "mse = mean_squared_error(y_test, y_pred)\n",
    "mae = mean_absolute_error(y_test, y_pred)\n",
    "\n",
    "print(\"mean_squared_error: \",mse)\n",
    "print(\"mean_absolute_error: \", mae)"
   ]
  },
  {
   "cell_type": "code",
   "execution_count": 39,
   "id": "84b9e579-b19d-4b82-8b30-2bbe394f49ff",
   "metadata": {},
   "outputs": [],
   "source": [
    "r2 = r2_score(y_test, y_pred)"
   ]
  },
  {
   "cell_type": "code",
   "execution_count": 40,
   "id": "810b753b-866e-480d-971a-a702077d48e5",
   "metadata": {},
   "outputs": [
    {
     "data": {
      "text/plain": [
       "0.8647487024267837"
      ]
     },
     "execution_count": 40,
     "metadata": {},
     "output_type": "execute_result"
    }
   ],
   "source": [
    "r2"
   ]
  },
  {
   "cell_type": "markdown",
   "id": "12faf9eb-103a-4501-912f-5f6886f9f2fe",
   "metadata": {},
   "source": [
    "Aşağıdaki gibi yaparak gerçek skorlar ile tahmin skorları arasındaki farkları bulabiliriz."
   ]
  },
  {
   "cell_type": "code",
   "execution_count": 41,
   "id": "f04797f6-a037-471f-8305-3ba2c9940e4c",
   "metadata": {},
   "outputs": [
    {
     "data": {
      "text/plain": [
       "29    4.054722\n",
       "11    6.404458\n",
       "18   -2.306150\n",
       "32    0.834775\n",
       "12    3.598400\n",
       "35    2.783552\n",
       "38   -3.514210\n",
       "16   -2.365369\n",
       "2     2.780225\n",
       "8     1.803472\n",
       "17    1.042989\n",
       "7     0.381815\n",
       "10    3.839653\n",
       "Name: Exam Score, dtype: float64"
      ]
     },
     "execution_count": 41,
     "metadata": {},
     "output_type": "execute_result"
    }
   ],
   "source": [
    "residuals = y_test - y_pred\n",
    "residuals"
   ]
  },
  {
   "cell_type": "code",
   "execution_count": 42,
   "id": "c2c8465f-6e75-4933-a52e-49a8bf5440e7",
   "metadata": {},
   "outputs": [
    {
     "data": {
      "image/png": "[encoded data removed]",
      "text/plain": [
       "<Figure size 500x500 with 1 Axes>"
      ]
     },
     "metadata": {},
     "output_type": "display_data"
    }
   ],
   "source": [
    "## if residuals are in normal distribution it seems good\n",
    "sns.displot(residuals,kind='kde')\n",
    "plt.show()"
   ]
  },
  {
   "cell_type": "code",
   "execution_count": 43,
   "id": "91777324-0a22-45fb-b1dc-bf1de22001e4",
   "metadata": {},
   "outputs": [
    {
     "data": {
      "text/plain": [
       "76.55135135135139"
      ]
     },
     "execution_count": 43,
     "metadata": {},
     "output_type": "execute_result"
    }
   ],
   "source": [
    "regression.intercept_"
   ]
  },
  {
   "cell_type": "code",
   "execution_count": 45,
   "id": "93ae8ff3-d963-4108-87d2-57ea4e4f4995",
   "metadata": {},
   "outputs": [
    {
     "data": {
      "text/plain": [
       "array([10.61589319,  1.86657324,  3.57323475, -3.58521309])"
      ]
     },
     "execution_count": 45,
     "metadata": {},
     "output_type": "execute_result"
    }
   ],
   "source": [
    "regression.coef_   # Burada sırayla kolonların katsayıları (etkileri) görünüyor."
   ]
  },
  {
   "cell_type": "code",
   "execution_count": 46,
   "id": "104e78d2-746d-43d5-9fa2-e68669f71656",
   "metadata": {},
   "outputs": [],
   "source": [
    "students = [\n",
    "    [6, 8, 95, 5],\n",
    "    [3, 6, 85, 4],\n",
    "    [4, 7, 80, 3]\n",
    "]"
   ]
  },
  {
   "cell_type": "code",
   "execution_count": 47,
   "id": "338251b1-ee99-4a4b-95e6-905dd3f25f90",
   "metadata": {},
   "outputs": [
    {
     "name": "stderr",
     "output_type": "stream",
     "text": [
      "C:\\ProgramData\\anaconda3\\Lib\\site-packages\\sklearn\\base.py:493: UserWarning: X does not have valid feature names, but StandardScaler was fitted with feature names\n",
      "  warnings.warn(\n"
     ]
    },
    {
     "data": {
      "text/plain": [
       "array([88.97719876, 60.93961287, 71.43102935])"
      ]
     },
     "execution_count": 47,
     "metadata": {},
     "output_type": "execute_result"
    }
   ],
   "source": [
    "regression.predict(scaler.transform(students))"
   ]
  },
  {
   "cell_type": "markdown",
   "id": "88be3b10-0137-46ee-ac4b-0c776083144b",
   "metadata": {},
   "source": [
    "Öğrencilerin bu saatleri yaparlarsa alacakları tahmini notları sırasıyla böyleymiş."
   ]
  },
  {
   "cell_type": "code",
   "execution_count": null,
   "id": "1492ce44-2bb5-4056-815f-5c14fdc54e14",
   "metadata": {},
   "outputs": [],
   "source": []
  }
 ],
 "metadata": {
  "kernelspec": {
   "display_name": "Python 3 (ipykernel)",
   "language": "python",
   "name": "python3"
  },
  "language_info": {
   "codemirror_mode": {
    "name": "ipython",
    "version": 3
   },
   "file_extension": ".py",
   "mimetype": "text/x-python",
   "name": "python",
   "nbconvert_exporter": "python",
   "pygments_lexer": "ipython3",
   "version": "3.12.7"
  }
 },
 "nbformat": 4,
 "nbformat_minor": 5
}
