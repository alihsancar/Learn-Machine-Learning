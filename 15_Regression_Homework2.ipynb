{
 "cells": [
  {
   "cell_type": "code",
   "execution_count": 1,
   "id": "2027ba33-ccae-4e6b-a92e-87d17def551d",
   "metadata": {},
   "outputs": [],
   "source": [
    "import numpy as np\n",
    "import pandas as pd\n",
    "import seaborn as sns\n",
    "import matplotlib.pyplot as plt"
   ]
  },
  {
   "cell_type": "code",
   "execution_count": 2,
   "id": "1e909a63-9266-41d3-abc6-a268edb008a6",
   "metadata": {},
   "outputs": [],
   "source": [
    "df = pd.read_csv(\"15-real_estate_dataset.csv\")"
   ]
  },
  {
   "cell_type": "code",
   "execution_count": 3,
   "id": "d2d465bb-9392-44ac-a58b-0bd35c3a7e9a",
   "metadata": {},
   "outputs": [
    {
     "data": {
      "text/html": [
       "<div>\n",
       "<style scoped>\n",
       "    .dataframe tbody tr th:only-of-type {\n",
       "        vertical-align: middle;\n",
       "    }\n",
       "\n",
       "    .dataframe tbody tr th {\n",
       "        vertical-align: top;\n",
       "    }\n",
       "\n",
       "    .dataframe thead th {\n",
       "        text-align: right;\n",
       "    }\n",
       "</style>\n",
       "<table border=\"1\" class=\"dataframe\">\n",
       "  <thead>\n",
       "    <tr style=\"text-align: right;\">\n",
       "      <th></th>\n",
       "      <th>ID</th>\n",
       "      <th>Square_Feet</th>\n",
       "      <th>Num_Bedrooms</th>\n",
       "      <th>Num_Bathrooms</th>\n",
       "      <th>Num_Floors</th>\n",
       "      <th>Year_Built</th>\n",
       "      <th>Has_Garden</th>\n",
       "      <th>Has_Pool</th>\n",
       "      <th>Garage_Size</th>\n",
       "      <th>Location_Score</th>\n",
       "      <th>Distance_to_Center</th>\n",
       "      <th>Price</th>\n",
       "    </tr>\n",
       "  </thead>\n",
       "  <tbody>\n",
       "    <tr>\n",
       "      <th>0</th>\n",
       "      <td>1</td>\n",
       "      <td>143.635030</td>\n",
       "      <td>1</td>\n",
       "      <td>3</td>\n",
       "      <td>3</td>\n",
       "      <td>1967</td>\n",
       "      <td>1</td>\n",
       "      <td>1</td>\n",
       "      <td>48</td>\n",
       "      <td>8.297631</td>\n",
       "      <td>5.935734</td>\n",
       "      <td>602134.816747</td>\n",
       "    </tr>\n",
       "    <tr>\n",
       "      <th>1</th>\n",
       "      <td>2</td>\n",
       "      <td>287.678577</td>\n",
       "      <td>1</td>\n",
       "      <td>2</td>\n",
       "      <td>1</td>\n",
       "      <td>1949</td>\n",
       "      <td>0</td>\n",
       "      <td>1</td>\n",
       "      <td>37</td>\n",
       "      <td>6.061466</td>\n",
       "      <td>10.827392</td>\n",
       "      <td>591425.135386</td>\n",
       "    </tr>\n",
       "    <tr>\n",
       "      <th>2</th>\n",
       "      <td>3</td>\n",
       "      <td>232.998485</td>\n",
       "      <td>1</td>\n",
       "      <td>3</td>\n",
       "      <td>2</td>\n",
       "      <td>1923</td>\n",
       "      <td>1</td>\n",
       "      <td>0</td>\n",
       "      <td>14</td>\n",
       "      <td>2.911442</td>\n",
       "      <td>6.904599</td>\n",
       "      <td>464478.696880</td>\n",
       "    </tr>\n",
       "    <tr>\n",
       "      <th>3</th>\n",
       "      <td>4</td>\n",
       "      <td>199.664621</td>\n",
       "      <td>5</td>\n",
       "      <td>2</td>\n",
       "      <td>2</td>\n",
       "      <td>1918</td>\n",
       "      <td>0</td>\n",
       "      <td>0</td>\n",
       "      <td>17</td>\n",
       "      <td>2.070949</td>\n",
       "      <td>8.284019</td>\n",
       "      <td>583105.655996</td>\n",
       "    </tr>\n",
       "    <tr>\n",
       "      <th>4</th>\n",
       "      <td>5</td>\n",
       "      <td>89.004660</td>\n",
       "      <td>4</td>\n",
       "      <td>3</td>\n",
       "      <td>3</td>\n",
       "      <td>1999</td>\n",
       "      <td>1</td>\n",
       "      <td>0</td>\n",
       "      <td>34</td>\n",
       "      <td>1.523278</td>\n",
       "      <td>14.648277</td>\n",
       "      <td>619879.142523</td>\n",
       "    </tr>\n",
       "  </tbody>\n",
       "</table>\n",
       "</div>"
      ],
      "text/plain": [
       "   ID  Square_Feet  Num_Bedrooms  Num_Bathrooms  Num_Floors  Year_Built  \\\n",
       "0   1   143.635030             1              3           3        1967   \n",
       "1   2   287.678577             1              2           1        1949   \n",
       "2   3   232.998485             1              3           2        1923   \n",
       "3   4   199.664621             5              2           2        1918   \n",
       "4   5    89.004660             4              3           3        1999   \n",
       "\n",
       "   Has_Garden  Has_Pool  Garage_Size  Location_Score  Distance_to_Center  \\\n",
       "0           1         1           48        8.297631            5.935734   \n",
       "1           0         1           37        6.061466           10.827392   \n",
       "2           1         0           14        2.911442            6.904599   \n",
       "3           0         0           17        2.070949            8.284019   \n",
       "4           1         0           34        1.523278           14.648277   \n",
       "\n",
       "           Price  \n",
       "0  602134.816747  \n",
       "1  591425.135386  \n",
       "2  464478.696880  \n",
       "3  583105.655996  \n",
       "4  619879.142523  "
      ]
     },
     "execution_count": 3,
     "metadata": {},
     "output_type": "execute_result"
    }
   ],
   "source": [
    "df.head()"
   ]
  },
  {
   "cell_type": "markdown",
   "id": "b1d7bcde-7d46-47e6-87b8-4b3a85d58faf",
   "metadata": {},
   "source": [
    "Dataset Columns:\n",
    "\n",
    "ID: A unique identifier for each property.\n",
    "\n",
    "Square_Feet: The area of the property in square meters.\n",
    "\n",
    "Num_Bedrooms: The number of bedrooms in the property.\n",
    "\n",
    "Num_Bathrooms: The number of bathrooms in the property.\n",
    "\n",
    "Num_Floors: The number of floors in the property.\n",
    "\n",
    "Year_Built: The year the property was built.\n",
    "\n",
    "Has_Garden: Indicates whether the property has a garden (1 for yes, 0 for no).\n",
    "\n",
    "Has_Pool: Indicates whether the property has a pool (1 for yes, 0 for no).\n",
    "\n",
    "Garage_Size: The size of the garage in square meters.\n",
    "\n",
    "Location_Score: A score from 0 to 10 indicating the quality of the neighborhood (higher scores indicate better neighborhoods).\n",
    "\n",
    "Distance_to_Center: The distance from the property to the city center in kilometers.\n",
    "\n",
    "Price: The target variable that represents the price of the property. This is the value we aim to predict.\n",
    "\n",
    "Objective:\n",
    "The goal of this task is to develop a regression model that predicts the Price of a real estate property using the other features as inputs. The model should be able to learn the relationship between these features and the price, providing an accurate prediction for unseen data."
   ]
  },
  {
   "cell_type": "code",
   "execution_count": 4,
   "id": "bd7d3908-8bd9-49ed-ab6c-95b78e7358f3",
   "metadata": {},
   "outputs": [
    {
     "name": "stdout",
     "output_type": "stream",
     "text": [
      "<class 'pandas.core.frame.DataFrame'>\n",
      "RangeIndex: 500 entries, 0 to 499\n",
      "Data columns (total 12 columns):\n",
      " #   Column              Non-Null Count  Dtype  \n",
      "---  ------              --------------  -----  \n",
      " 0   ID                  500 non-null    int64  \n",
      " 1   Square_Feet         500 non-null    float64\n",
      " 2   Num_Bedrooms        500 non-null    int64  \n",
      " 3   Num_Bathrooms       500 non-null    int64  \n",
      " 4   Num_Floors          500 non-null    int64  \n",
      " 5   Year_Built          500 non-null    int64  \n",
      " 6   Has_Garden          500 non-null    int64  \n",
      " 7   Has_Pool            500 non-null    int64  \n",
      " 8   Garage_Size         500 non-null    int64  \n",
      " 9   Location_Score      500 non-null    float64\n",
      " 10  Distance_to_Center  500 non-null    float64\n",
      " 11  Price               500 non-null    float64\n",
      "dtypes: float64(4), int64(8)\n",
      "memory usage: 47.0 KB\n"
     ]
    }
   ],
   "source": [
    "df.info()"
   ]
  },
  {
   "cell_type": "code",
   "execution_count": 6,
   "id": "0d8f2698-ae66-4237-b001-8564d4ab6d28",
   "metadata": {},
   "outputs": [
    {
     "data": {
      "text/plain": [
       "ID                    0\n",
       "Square_Feet           0\n",
       "Num_Bedrooms          0\n",
       "Num_Bathrooms         0\n",
       "Num_Floors            0\n",
       "Year_Built            0\n",
       "Has_Garden            0\n",
       "Has_Pool              0\n",
       "Garage_Size           0\n",
       "Location_Score        0\n",
       "Distance_to_Center    0\n",
       "Price                 0\n",
       "dtype: int64"
      ]
     },
     "execution_count": 6,
     "metadata": {},
     "output_type": "execute_result"
    }
   ],
   "source": [
    "df.isna().sum()"
   ]
  },
  {
   "cell_type": "markdown",
   "id": "0da09ee2-60a8-4200-853d-f062f716e988",
   "metadata": {},
   "source": [
    "ID kolonu gereksiz o yüzden direkt çıkardım."
   ]
  },
  {
   "cell_type": "code",
   "execution_count": 8,
   "id": "faf31b75-480c-4f13-a738-0a85b6779721",
   "metadata": {},
   "outputs": [],
   "source": [
    "df = df.drop('ID', axis = 1)"
   ]
  },
  {
   "cell_type": "code",
   "execution_count": 9,
   "id": "9702a45b-d544-43cf-97f9-84852dbfd59e",
   "metadata": {},
   "outputs": [
    {
     "data": {
      "text/html": [
       "<div>\n",
       "<style scoped>\n",
       "    .dataframe tbody tr th:only-of-type {\n",
       "        vertical-align: middle;\n",
       "    }\n",
       "\n",
       "    .dataframe tbody tr th {\n",
       "        vertical-align: top;\n",
       "    }\n",
       "\n",
       "    .dataframe thead th {\n",
       "        text-align: right;\n",
       "    }\n",
       "</style>\n",
       "<table border=\"1\" class=\"dataframe\">\n",
       "  <thead>\n",
       "    <tr style=\"text-align: right;\">\n",
       "      <th></th>\n",
       "      <th>Square_Feet</th>\n",
       "      <th>Num_Bedrooms</th>\n",
       "      <th>Num_Bathrooms</th>\n",
       "      <th>Num_Floors</th>\n",
       "      <th>Year_Built</th>\n",
       "      <th>Has_Garden</th>\n",
       "      <th>Has_Pool</th>\n",
       "      <th>Garage_Size</th>\n",
       "      <th>Location_Score</th>\n",
       "      <th>Distance_to_Center</th>\n",
       "      <th>Price</th>\n",
       "    </tr>\n",
       "  </thead>\n",
       "  <tbody>\n",
       "    <tr>\n",
       "      <th>0</th>\n",
       "      <td>143.635030</td>\n",
       "      <td>1</td>\n",
       "      <td>3</td>\n",
       "      <td>3</td>\n",
       "      <td>1967</td>\n",
       "      <td>1</td>\n",
       "      <td>1</td>\n",
       "      <td>48</td>\n",
       "      <td>8.297631</td>\n",
       "      <td>5.935734</td>\n",
       "      <td>602134.816747</td>\n",
       "    </tr>\n",
       "    <tr>\n",
       "      <th>1</th>\n",
       "      <td>287.678577</td>\n",
       "      <td>1</td>\n",
       "      <td>2</td>\n",
       "      <td>1</td>\n",
       "      <td>1949</td>\n",
       "      <td>0</td>\n",
       "      <td>1</td>\n",
       "      <td>37</td>\n",
       "      <td>6.061466</td>\n",
       "      <td>10.827392</td>\n",
       "      <td>591425.135386</td>\n",
       "    </tr>\n",
       "    <tr>\n",
       "      <th>2</th>\n",
       "      <td>232.998485</td>\n",
       "      <td>1</td>\n",
       "      <td>3</td>\n",
       "      <td>2</td>\n",
       "      <td>1923</td>\n",
       "      <td>1</td>\n",
       "      <td>0</td>\n",
       "      <td>14</td>\n",
       "      <td>2.911442</td>\n",
       "      <td>6.904599</td>\n",
       "      <td>464478.696880</td>\n",
       "    </tr>\n",
       "    <tr>\n",
       "      <th>3</th>\n",
       "      <td>199.664621</td>\n",
       "      <td>5</td>\n",
       "      <td>2</td>\n",
       "      <td>2</td>\n",
       "      <td>1918</td>\n",
       "      <td>0</td>\n",
       "      <td>0</td>\n",
       "      <td>17</td>\n",
       "      <td>2.070949</td>\n",
       "      <td>8.284019</td>\n",
       "      <td>583105.655996</td>\n",
       "    </tr>\n",
       "    <tr>\n",
       "      <th>4</th>\n",
       "      <td>89.004660</td>\n",
       "      <td>4</td>\n",
       "      <td>3</td>\n",
       "      <td>3</td>\n",
       "      <td>1999</td>\n",
       "      <td>1</td>\n",
       "      <td>0</td>\n",
       "      <td>34</td>\n",
       "      <td>1.523278</td>\n",
       "      <td>14.648277</td>\n",
       "      <td>619879.142523</td>\n",
       "    </tr>\n",
       "  </tbody>\n",
       "</table>\n",
       "</div>"
      ],
      "text/plain": [
       "   Square_Feet  Num_Bedrooms  Num_Bathrooms  Num_Floors  Year_Built  \\\n",
       "0   143.635030             1              3           3        1967   \n",
       "1   287.678577             1              2           1        1949   \n",
       "2   232.998485             1              3           2        1923   \n",
       "3   199.664621             5              2           2        1918   \n",
       "4    89.004660             4              3           3        1999   \n",
       "\n",
       "   Has_Garden  Has_Pool  Garage_Size  Location_Score  Distance_to_Center  \\\n",
       "0           1         1           48        8.297631            5.935734   \n",
       "1           0         1           37        6.061466           10.827392   \n",
       "2           1         0           14        2.911442            6.904599   \n",
       "3           0         0           17        2.070949            8.284019   \n",
       "4           1         0           34        1.523278           14.648277   \n",
       "\n",
       "           Price  \n",
       "0  602134.816747  \n",
       "1  591425.135386  \n",
       "2  464478.696880  \n",
       "3  583105.655996  \n",
       "4  619879.142523  "
      ]
     },
     "execution_count": 9,
     "metadata": {},
     "output_type": "execute_result"
    }
   ],
   "source": [
    "df.head()"
   ]
  },
  {
   "cell_type": "code",
   "execution_count": 20,
   "id": "5419816f-7f1f-4822-b587-bdc27bd7399b",
   "metadata": {},
   "outputs": [
    {
     "data": {
      "image/png": "[encoded data removed]",
      "text/plain": [
       "<Figure size 1300x800 with 1 Axes>"
      ]
     },
     "metadata": {},
     "output_type": "display_data"
    }
   ],
   "source": [
    "plt.figure(figsize=(13,8))\n",
    "sns.histplot(df[\"Price\"] , kde = True, color = \"skyblue\")\n",
    "plt.xlabel(\"Price\")\n",
    "plt.ylabel(\"Frequency\")\n",
    "plt.show()"
   ]
  },
  {
   "cell_type": "code",
   "execution_count": 24,
   "id": "aa171b96-e451-4664-9bbd-0a243e799e4f",
   "metadata": {},
   "outputs": [
    {
     "data": {
      "image/png": "[encoded data removed]",
      "text/plain": [
       "<Figure size 1300x800 with 2 Axes>"
      ]
     },
     "metadata": {},
     "output_type": "display_data"
    }
   ],
   "source": [
    "plt.figure(figsize=(13,8))\n",
    "sns.heatmap(df.corr(), annot=True)\n",
    "plt.show()"
   ]
  },
  {
   "cell_type": "code",
   "execution_count": 29,
   "id": "31cfd79b-19c5-4bac-834d-1a5f07d3c598",
   "metadata": {},
   "outputs": [],
   "source": [
    "X = df.drop('Price', axis=1)\n",
    "y = df[\"Price\"]"
   ]
  },
  {
   "cell_type": "code",
   "execution_count": 30,
   "id": "237e21b2-6fa4-4cc5-a494-f53b22f828bc",
   "metadata": {},
   "outputs": [
    {
     "data": {
      "text/html": [
       "<div>\n",
       "<style scoped>\n",
       "    .dataframe tbody tr th:only-of-type {\n",
       "        vertical-align: middle;\n",
       "    }\n",
       "\n",
       "    .dataframe tbody tr th {\n",
       "        vertical-align: top;\n",
       "    }\n",
       "\n",
       "    .dataframe thead th {\n",
       "        text-align: right;\n",
       "    }\n",
       "</style>\n",
       "<table border=\"1\" class=\"dataframe\">\n",
       "  <thead>\n",
       "    <tr style=\"text-align: right;\">\n",
       "      <th></th>\n",
       "      <th>Square_Feet</th>\n",
       "      <th>Num_Bedrooms</th>\n",
       "      <th>Num_Bathrooms</th>\n",
       "      <th>Num_Floors</th>\n",
       "      <th>Year_Built</th>\n",
       "      <th>Has_Garden</th>\n",
       "      <th>Has_Pool</th>\n",
       "      <th>Garage_Size</th>\n",
       "      <th>Location_Score</th>\n",
       "      <th>Distance_to_Center</th>\n",
       "    </tr>\n",
       "  </thead>\n",
       "  <tbody>\n",
       "    <tr>\n",
       "      <th>0</th>\n",
       "      <td>143.635030</td>\n",
       "      <td>1</td>\n",
       "      <td>3</td>\n",
       "      <td>3</td>\n",
       "      <td>1967</td>\n",
       "      <td>1</td>\n",
       "      <td>1</td>\n",
       "      <td>48</td>\n",
       "      <td>8.297631</td>\n",
       "      <td>5.935734</td>\n",
       "    </tr>\n",
       "    <tr>\n",
       "      <th>1</th>\n",
       "      <td>287.678577</td>\n",
       "      <td>1</td>\n",
       "      <td>2</td>\n",
       "      <td>1</td>\n",
       "      <td>1949</td>\n",
       "      <td>0</td>\n",
       "      <td>1</td>\n",
       "      <td>37</td>\n",
       "      <td>6.061466</td>\n",
       "      <td>10.827392</td>\n",
       "    </tr>\n",
       "    <tr>\n",
       "      <th>2</th>\n",
       "      <td>232.998485</td>\n",
       "      <td>1</td>\n",
       "      <td>3</td>\n",
       "      <td>2</td>\n",
       "      <td>1923</td>\n",
       "      <td>1</td>\n",
       "      <td>0</td>\n",
       "      <td>14</td>\n",
       "      <td>2.911442</td>\n",
       "      <td>6.904599</td>\n",
       "    </tr>\n",
       "    <tr>\n",
       "      <th>3</th>\n",
       "      <td>199.664621</td>\n",
       "      <td>5</td>\n",
       "      <td>2</td>\n",
       "      <td>2</td>\n",
       "      <td>1918</td>\n",
       "      <td>0</td>\n",
       "      <td>0</td>\n",
       "      <td>17</td>\n",
       "      <td>2.070949</td>\n",
       "      <td>8.284019</td>\n",
       "    </tr>\n",
       "    <tr>\n",
       "      <th>4</th>\n",
       "      <td>89.004660</td>\n",
       "      <td>4</td>\n",
       "      <td>3</td>\n",
       "      <td>3</td>\n",
       "      <td>1999</td>\n",
       "      <td>1</td>\n",
       "      <td>0</td>\n",
       "      <td>34</td>\n",
       "      <td>1.523278</td>\n",
       "      <td>14.648277</td>\n",
       "    </tr>\n",
       "  </tbody>\n",
       "</table>\n",
       "</div>"
      ],
      "text/plain": [
       "   Square_Feet  Num_Bedrooms  Num_Bathrooms  Num_Floors  Year_Built  \\\n",
       "0   143.635030             1              3           3        1967   \n",
       "1   287.678577             1              2           1        1949   \n",
       "2   232.998485             1              3           2        1923   \n",
       "3   199.664621             5              2           2        1918   \n",
       "4    89.004660             4              3           3        1999   \n",
       "\n",
       "   Has_Garden  Has_Pool  Garage_Size  Location_Score  Distance_to_Center  \n",
       "0           1         1           48        8.297631            5.935734  \n",
       "1           0         1           37        6.061466           10.827392  \n",
       "2           1         0           14        2.911442            6.904599  \n",
       "3           0         0           17        2.070949            8.284019  \n",
       "4           1         0           34        1.523278           14.648277  "
      ]
     },
     "execution_count": 30,
     "metadata": {},
     "output_type": "execute_result"
    }
   ],
   "source": [
    "X.head()"
   ]
  },
  {
   "cell_type": "code",
   "execution_count": 31,
   "id": "83383570-d933-442b-933b-e500920114a9",
   "metadata": {},
   "outputs": [
    {
     "data": {
      "text/plain": [
       "0      602134.816747\n",
       "1      591425.135386\n",
       "2      464478.696880\n",
       "3      583105.655996\n",
       "4      619879.142523\n",
       "           ...      \n",
       "495    488496.350722\n",
       "496    657736.921717\n",
       "497    405324.950201\n",
       "498    773035.968028\n",
       "499    864299.500218\n",
       "Name: Price, Length: 500, dtype: float64"
      ]
     },
     "execution_count": 31,
     "metadata": {},
     "output_type": "execute_result"
    }
   ],
   "source": [
    "y"
   ]
  },
  {
   "cell_type": "code",
   "execution_count": 33,
   "id": "3d1f8c83-3c10-4f56-b714-14e35c843947",
   "metadata": {},
   "outputs": [],
   "source": [
    "from sklearn.model_selection import train_test_split"
   ]
  },
  {
   "cell_type": "code",
   "execution_count": 34,
   "id": "0450f0d1-5768-4cbb-abd0-04280438b692",
   "metadata": {},
   "outputs": [],
   "source": [
    "X_train, X_test, y_train, y_test = train_test_split(X, y , test_size=0.25, random_state=15)"
   ]
  },
  {
   "cell_type": "code",
   "execution_count": 35,
   "id": "02a25618-10f6-421f-af7d-dc5878c48b47",
   "metadata": {},
   "outputs": [
    {
     "data": {
      "text/plain": [
       "(375, 10)"
      ]
     },
     "execution_count": 35,
     "metadata": {},
     "output_type": "execute_result"
    }
   ],
   "source": [
    "X_train.shape"
   ]
  },
  {
   "cell_type": "code",
   "execution_count": 36,
   "id": "4a8a8875-2ab5-45cf-997e-0187d25a7783",
   "metadata": {},
   "outputs": [
    {
     "data": {
      "text/plain": [
       "(125, 10)"
      ]
     },
     "execution_count": 36,
     "metadata": {},
     "output_type": "execute_result"
    }
   ],
   "source": [
    "X_test.shape"
   ]
  },
  {
   "cell_type": "code",
   "execution_count": 37,
   "id": "a0bf6eb4-4bb7-486e-8d24-4502e58e9c70",
   "metadata": {},
   "outputs": [
    {
     "data": {
      "text/html": [
       "<div>\n",
       "<style scoped>\n",
       "    .dataframe tbody tr th:only-of-type {\n",
       "        vertical-align: middle;\n",
       "    }\n",
       "\n",
       "    .dataframe tbody tr th {\n",
       "        vertical-align: top;\n",
       "    }\n",
       "\n",
       "    .dataframe thead th {\n",
       "        text-align: right;\n",
       "    }\n",
       "</style>\n",
       "<table border=\"1\" class=\"dataframe\">\n",
       "  <thead>\n",
       "    <tr style=\"text-align: right;\">\n",
       "      <th></th>\n",
       "      <th>Square_Feet</th>\n",
       "      <th>Num_Bedrooms</th>\n",
       "      <th>Num_Bathrooms</th>\n",
       "      <th>Num_Floors</th>\n",
       "      <th>Year_Built</th>\n",
       "      <th>Has_Garden</th>\n",
       "      <th>Has_Pool</th>\n",
       "      <th>Garage_Size</th>\n",
       "      <th>Location_Score</th>\n",
       "      <th>Distance_to_Center</th>\n",
       "    </tr>\n",
       "  </thead>\n",
       "  <tbody>\n",
       "    <tr>\n",
       "      <th>Square_Feet</th>\n",
       "      <td>1.000000</td>\n",
       "      <td>-0.043284</td>\n",
       "      <td>-0.003441</td>\n",
       "      <td>0.045831</td>\n",
       "      <td>-0.083760</td>\n",
       "      <td>-0.014651</td>\n",
       "      <td>0.032866</td>\n",
       "      <td>-0.090218</td>\n",
       "      <td>-0.045186</td>\n",
       "      <td>0.144891</td>\n",
       "    </tr>\n",
       "    <tr>\n",
       "      <th>Num_Bedrooms</th>\n",
       "      <td>-0.043284</td>\n",
       "      <td>1.000000</td>\n",
       "      <td>-0.050016</td>\n",
       "      <td>0.051897</td>\n",
       "      <td>0.062599</td>\n",
       "      <td>0.031472</td>\n",
       "      <td>0.012621</td>\n",
       "      <td>-0.097235</td>\n",
       "      <td>0.014426</td>\n",
       "      <td>0.018012</td>\n",
       "    </tr>\n",
       "    <tr>\n",
       "      <th>Num_Bathrooms</th>\n",
       "      <td>-0.003441</td>\n",
       "      <td>-0.050016</td>\n",
       "      <td>1.000000</td>\n",
       "      <td>-0.023365</td>\n",
       "      <td>-0.006287</td>\n",
       "      <td>-0.042669</td>\n",
       "      <td>-0.013964</td>\n",
       "      <td>0.025498</td>\n",
       "      <td>-0.003031</td>\n",
       "      <td>-0.113462</td>\n",
       "    </tr>\n",
       "    <tr>\n",
       "      <th>Num_Floors</th>\n",
       "      <td>0.045831</td>\n",
       "      <td>0.051897</td>\n",
       "      <td>-0.023365</td>\n",
       "      <td>1.000000</td>\n",
       "      <td>0.034202</td>\n",
       "      <td>0.038641</td>\n",
       "      <td>-0.042532</td>\n",
       "      <td>-0.100562</td>\n",
       "      <td>0.023213</td>\n",
       "      <td>0.010187</td>\n",
       "    </tr>\n",
       "    <tr>\n",
       "      <th>Year_Built</th>\n",
       "      <td>-0.083760</td>\n",
       "      <td>0.062599</td>\n",
       "      <td>-0.006287</td>\n",
       "      <td>0.034202</td>\n",
       "      <td>1.000000</td>\n",
       "      <td>0.010248</td>\n",
       "      <td>-0.041118</td>\n",
       "      <td>-0.005607</td>\n",
       "      <td>-0.008817</td>\n",
       "      <td>0.000883</td>\n",
       "    </tr>\n",
       "    <tr>\n",
       "      <th>Has_Garden</th>\n",
       "      <td>-0.014651</td>\n",
       "      <td>0.031472</td>\n",
       "      <td>-0.042669</td>\n",
       "      <td>0.038641</td>\n",
       "      <td>0.010248</td>\n",
       "      <td>1.000000</td>\n",
       "      <td>-0.079778</td>\n",
       "      <td>-0.056768</td>\n",
       "      <td>0.009637</td>\n",
       "      <td>-0.005081</td>\n",
       "    </tr>\n",
       "    <tr>\n",
       "      <th>Has_Pool</th>\n",
       "      <td>0.032866</td>\n",
       "      <td>0.012621</td>\n",
       "      <td>-0.013964</td>\n",
       "      <td>-0.042532</td>\n",
       "      <td>-0.041118</td>\n",
       "      <td>-0.079778</td>\n",
       "      <td>1.000000</td>\n",
       "      <td>0.048741</td>\n",
       "      <td>-0.052807</td>\n",
       "      <td>0.123619</td>\n",
       "    </tr>\n",
       "    <tr>\n",
       "      <th>Garage_Size</th>\n",
       "      <td>-0.090218</td>\n",
       "      <td>-0.097235</td>\n",
       "      <td>0.025498</td>\n",
       "      <td>-0.100562</td>\n",
       "      <td>-0.005607</td>\n",
       "      <td>-0.056768</td>\n",
       "      <td>0.048741</td>\n",
       "      <td>1.000000</td>\n",
       "      <td>0.012806</td>\n",
       "      <td>-0.071217</td>\n",
       "    </tr>\n",
       "    <tr>\n",
       "      <th>Location_Score</th>\n",
       "      <td>-0.045186</td>\n",
       "      <td>0.014426</td>\n",
       "      <td>-0.003031</td>\n",
       "      <td>0.023213</td>\n",
       "      <td>-0.008817</td>\n",
       "      <td>0.009637</td>\n",
       "      <td>-0.052807</td>\n",
       "      <td>0.012806</td>\n",
       "      <td>1.000000</td>\n",
       "      <td>0.030774</td>\n",
       "    </tr>\n",
       "    <tr>\n",
       "      <th>Distance_to_Center</th>\n",
       "      <td>0.144891</td>\n",
       "      <td>0.018012</td>\n",
       "      <td>-0.113462</td>\n",
       "      <td>0.010187</td>\n",
       "      <td>0.000883</td>\n",
       "      <td>-0.005081</td>\n",
       "      <td>0.123619</td>\n",
       "      <td>-0.071217</td>\n",
       "      <td>0.030774</td>\n",
       "      <td>1.000000</td>\n",
       "    </tr>\n",
       "  </tbody>\n",
       "</table>\n",
       "</div>"
      ],
      "text/plain": [
       "                    Square_Feet  Num_Bedrooms  Num_Bathrooms  Num_Floors  \\\n",
       "Square_Feet            1.000000     -0.043284      -0.003441    0.045831   \n",
       "Num_Bedrooms          -0.043284      1.000000      -0.050016    0.051897   \n",
       "Num_Bathrooms         -0.003441     -0.050016       1.000000   -0.023365   \n",
       "Num_Floors             0.045831      0.051897      -0.023365    1.000000   \n",
       "Year_Built            -0.083760      0.062599      -0.006287    0.034202   \n",
       "Has_Garden            -0.014651      0.031472      -0.042669    0.038641   \n",
       "Has_Pool               0.032866      0.012621      -0.013964   -0.042532   \n",
       "Garage_Size           -0.090218     -0.097235       0.025498   -0.100562   \n",
       "Location_Score        -0.045186      0.014426      -0.003031    0.023213   \n",
       "Distance_to_Center     0.144891      0.018012      -0.113462    0.010187   \n",
       "\n",
       "                    Year_Built  Has_Garden  Has_Pool  Garage_Size  \\\n",
       "Square_Feet          -0.083760   -0.014651  0.032866    -0.090218   \n",
       "Num_Bedrooms          0.062599    0.031472  0.012621    -0.097235   \n",
       "Num_Bathrooms        -0.006287   -0.042669 -0.013964     0.025498   \n",
       "Num_Floors            0.034202    0.038641 -0.042532    -0.100562   \n",
       "Year_Built            1.000000    0.010248 -0.041118    -0.005607   \n",
       "Has_Garden            0.010248    1.000000 -0.079778    -0.056768   \n",
       "Has_Pool             -0.041118   -0.079778  1.000000     0.048741   \n",
       "Garage_Size          -0.005607   -0.056768  0.048741     1.000000   \n",
       "Location_Score       -0.008817    0.009637 -0.052807     0.012806   \n",
       "Distance_to_Center    0.000883   -0.005081  0.123619    -0.071217   \n",
       "\n",
       "                    Location_Score  Distance_to_Center  \n",
       "Square_Feet              -0.045186            0.144891  \n",
       "Num_Bedrooms              0.014426            0.018012  \n",
       "Num_Bathrooms            -0.003031           -0.113462  \n",
       "Num_Floors                0.023213            0.010187  \n",
       "Year_Built               -0.008817            0.000883  \n",
       "Has_Garden                0.009637           -0.005081  \n",
       "Has_Pool                 -0.052807            0.123619  \n",
       "Garage_Size               0.012806           -0.071217  \n",
       "Location_Score            1.000000            0.030774  \n",
       "Distance_to_Center        0.030774            1.000000  "
      ]
     },
     "execution_count": 37,
     "metadata": {},
     "output_type": "execute_result"
    }
   ],
   "source": [
    "X_train.corr()"
   ]
  },
  {
   "cell_type": "code",
   "execution_count": 38,
   "id": "27ff2adb-11be-4466-9d9b-3f6d75c3fcca",
   "metadata": {},
   "outputs": [],
   "source": [
    "# Birbirleriyle korelasyonları yüksek olanları atacaktım ama zaten yok ama yine de fonksiyonu yazmaya çalışacağım."
   ]
  },
  {
   "cell_type": "code",
   "execution_count": 39,
   "id": "b41fb53f-afca-4326-bc34-fa0daea48edc",
   "metadata": {},
   "outputs": [],
   "source": [
    "def correlation_for_dropping(df, threshold):\n",
    "    columns_to_drop = set()\n",
    "    corr = df.corr()\n",
    "\n",
    "    for i in range(len(corr.columns)):\n",
    "        for j in range(i):\n",
    "            if abs(corr.iloc[i,j]) > threshold:\n",
    "                columns_to_drop.add(corr.columns[i])\n",
    "\n",
    "    return columns_to_drop\n"
   ]
  },
  {
   "cell_type": "code",
   "execution_count": 40,
   "id": "eb6cf0fc-3616-4b4a-ace6-9148fd7305ae",
   "metadata": {},
   "outputs": [],
   "source": [
    "columns_to_drop = correlation_for_dropping(X_train, 0.85)"
   ]
  },
  {
   "cell_type": "code",
   "execution_count": 41,
   "id": "66a13d9f-afc0-4ccc-927a-31633ca72e9c",
   "metadata": {},
   "outputs": [
    {
     "data": {
      "text/plain": [
       "set()"
      ]
     },
     "execution_count": 41,
     "metadata": {},
     "output_type": "execute_result"
    }
   ],
   "source": [
    "columns_to_drop"
   ]
  },
  {
   "cell_type": "markdown",
   "id": "06f8eec2-ef22-48c4-83bb-035cdbd569be",
   "metadata": {},
   "source": [
    "# Linear Regression"
   ]
  },
  {
   "cell_type": "code",
   "execution_count": 43,
   "id": "fe20d425-b67e-4b2d-9450-021cddcc3a85",
   "metadata": {},
   "outputs": [],
   "source": [
    "# SCALING and TRAIN"
   ]
  },
  {
   "cell_type": "code",
   "execution_count": 50,
   "id": "92198e24-e30e-43e8-86ae-0f00306f7574",
   "metadata": {},
   "outputs": [],
   "source": [
    "from sklearn.preprocessing import StandardScaler"
   ]
  },
  {
   "cell_type": "code",
   "execution_count": 53,
   "id": "7f0a6cb7-5e67-4034-bd49-4ed258bf3bc4",
   "metadata": {},
   "outputs": [],
   "source": [
    "scaler = StandardScaler()"
   ]
  },
  {
   "cell_type": "code",
   "execution_count": 54,
   "id": "e1c6c6bc-6abd-4c9c-831e-50be97fe0568",
   "metadata": {},
   "outputs": [],
   "source": [
    "X_train = scaler.fit_transform(X_train)\n",
    "X_test = scaler.transform(X_test)"
   ]
  },
  {
   "cell_type": "code",
   "execution_count": 57,
   "id": "87cce0b6-2587-45b7-9f1d-56286572b73d",
   "metadata": {},
   "outputs": [],
   "source": [
    "from sklearn.linear_model import LinearRegression"
   ]
  },
  {
   "cell_type": "code",
   "execution_count": 58,
   "id": "2f08bafc-37ba-4763-a1dd-7a29e72c28af",
   "metadata": {},
   "outputs": [],
   "source": [
    "linear = LinearRegression()"
   ]
  },
  {
   "cell_type": "code",
   "execution_count": 59,
   "id": "a40e94d3-ef07-4c65-b2da-9a89bb0a38b4",
   "metadata": {},
   "outputs": [
    {
     "data": {
      "text/html": [
       "<style>#sk-container-id-1 {\n",
       "  /* Definition of color scheme common for light and dark mode */\n",
       "  --sklearn-color-text: black;\n",
       "  --sklearn-color-line: gray;\n",
       "  /* Definition of color scheme for unfitted estimators */\n",
       "  --sklearn-color-unfitted-level-0: #fff5e6;\n",
       "  --sklearn-color-unfitted-level-1: #f6e4d2;\n",
       "  --sklearn-color-unfitted-level-2: #ffe0b3;\n",
       "  --sklearn-color-unfitted-level-3: chocolate;\n",
       "  /* Definition of color scheme for fitted estimators */\n",
       "  --sklearn-color-fitted-level-0: #f0f8ff;\n",
       "  --sklearn-color-fitted-level-1: #d4ebff;\n",
       "  --sklearn-color-fitted-level-2: #b3dbfd;\n",
       "  --sklearn-color-fitted-level-3: cornflowerblue;\n",
       "\n",
       "  /* Specific color for light theme */\n",
       "  --sklearn-color-text-on-default-background: var(--sg-text-color, var(--theme-code-foreground, var(--jp-content-font-color1, black)));\n",
       "  --sklearn-color-background: var(--sg-background-color, var(--theme-background, var(--jp-layout-color0, white)));\n",
       "  --sklearn-color-border-box: var(--sg-text-color, var(--theme-code-foreground, var(--jp-content-font-color1, black)));\n",
       "  --sklearn-color-icon: #696969;\n",
       "\n",
       "  @media (prefers-color-scheme: dark) {\n",
       "    /* Redefinition of color scheme for dark theme */\n",
       "    --sklearn-color-text-on-default-background: var(--sg-text-color, var(--theme-code-foreground, var(--jp-content-font-color1, white)));\n",
       "    --sklearn-color-background: var(--sg-background-color, var(--theme-background, var(--jp-layout-color0, #111)));\n",
       "    --sklearn-color-border-box: var(--sg-text-color, var(--theme-code-foreground, var(--jp-content-font-color1, white)));\n",
       "    --sklearn-color-icon: #878787;\n",
       "  }\n",
       "}\n",
       "\n",
       "#sk-container-id-1 {\n",
       "  color: var(--sklearn-color-text);\n",
       "}\n",
       "\n",
       "#sk-container-id-1 pre {\n",
       "  padding: 0;\n",
       "}\n",
       "\n",
       "#sk-container-id-1 input.sk-hidden--visually {\n",
       "  border: 0;\n",
       "  clip: rect(1px 1px 1px 1px);\n",
       "  clip: rect(1px, 1px, 1px, 1px);\n",
       "  height: 1px;\n",
       "  margin: -1px;\n",
       "  overflow: hidden;\n",
       "  padding: 0;\n",
       "  position: absolute;\n",
       "  width: 1px;\n",
       "}\n",
       "\n",
       "#sk-container-id-1 div.sk-dashed-wrapped {\n",
       "  border: 1px dashed var(--sklearn-color-line);\n",
       "  margin: 0 0.4em 0.5em 0.4em;\n",
       "  box-sizing: border-box;\n",
       "  padding-bottom: 0.4em;\n",
       "  background-color: var(--sklearn-color-background);\n",
       "}\n",
       "\n",
       "#sk-container-id-1 div.sk-container {\n",
       "  /* jupyter's `normalize.less` sets `[hidden] { display: none; }`\n",
       "     but bootstrap.min.css set `[hidden] { display: none !important; }`\n",
       "     so we also need the `!important` here to be able to override the\n",
       "     default hidden behavior on the sphinx rendered scikit-learn.org.\n",
       "     See: https://github.com/scikit-learn/scikit-learn/issues/21755 */\n",
       "  display: inline-block !important;\n",
       "  position: relative;\n",
       "}\n",
       "\n",
       "#sk-container-id-1 div.sk-text-repr-fallback {\n",
       "  display: none;\n",
       "}\n",
       "\n",
       "div.sk-parallel-item,\n",
       "div.sk-serial,\n",
       "div.sk-item {\n",
       "  /* draw centered vertical line to link estimators */\n",
       "  background-image: linear-gradient(var(--sklearn-color-text-on-default-background), var(--sklearn-color-text-on-default-background));\n",
       "  background-size: 2px 100%;\n",
       "  background-repeat: no-repeat;\n",
       "  background-position: center center;\n",
       "}\n",
       "\n",
       "/* Parallel-specific style estimator block */\n",
       "\n",
       "#sk-container-id-1 div.sk-parallel-item::after {\n",
       "  content: \"\";\n",
       "  width: 100%;\n",
       "  border-bottom: 2px solid var(--sklearn-color-text-on-default-background);\n",
       "  flex-grow: 1;\n",
       "}\n",
       "\n",
       "#sk-container-id-1 div.sk-parallel {\n",
       "  display: flex;\n",
       "  align-items: stretch;\n",
       "  justify-content: center;\n",
       "  background-color: var(--sklearn-color-background);\n",
       "  position: relative;\n",
       "}\n",
       "\n",
       "#sk-container-id-1 div.sk-parallel-item {\n",
       "  display: flex;\n",
       "  flex-direction: column;\n",
       "}\n",
       "\n",
       "#sk-container-id-1 div.sk-parallel-item:first-child::after {\n",
       "  align-self: flex-end;\n",
       "  width: 50%;\n",
       "}\n",
       "\n",
       "#sk-container-id-1 div.sk-parallel-item:last-child::after {\n",
       "  align-self: flex-start;\n",
       "  width: 50%;\n",
       "}\n",
       "\n",
       "#sk-container-id-1 div.sk-parallel-item:only-child::after {\n",
       "  width: 0;\n",
       "}\n",
       "\n",
       "/* Serial-specific style estimator block */\n",
       "\n",
       "#sk-container-id-1 div.sk-serial {\n",
       "  display: flex;\n",
       "  flex-direction: column;\n",
       "  align-items: center;\n",
       "  background-color: var(--sklearn-color-background);\n",
       "  padding-right: 1em;\n",
       "  padding-left: 1em;\n",
       "}\n",
       "\n",
       "\n",
       "/* Toggleable style: style used for estimator/Pipeline/ColumnTransformer box that is\n",
       "clickable and can be expanded/collapsed.\n",
       "- Pipeline and ColumnTransformer use this feature and define the default style\n",
       "- Estimators will overwrite some part of the style using the `sk-estimator` class\n",
       "*/\n",
       "\n",
       "/* Pipeline and ColumnTransformer style (default) */\n",
       "\n",
       "#sk-container-id-1 div.sk-toggleable {\n",
       "  /* Default theme specific background. It is overwritten whether we have a\n",
       "  specific estimator or a Pipeline/ColumnTransformer */\n",
       "  background-color: var(--sklearn-color-background);\n",
       "}\n",
       "\n",
       "/* Toggleable label */\n",
       "#sk-container-id-1 label.sk-toggleable__label {\n",
       "  cursor: pointer;\n",
       "  display: block;\n",
       "  width: 100%;\n",
       "  margin-bottom: 0;\n",
       "  padding: 0.5em;\n",
       "  box-sizing: border-box;\n",
       "  text-align: center;\n",
       "}\n",
       "\n",
       "#sk-container-id-1 label.sk-toggleable__label-arrow:before {\n",
       "  /* Arrow on the left of the label */\n",
       "  content: \"▸\";\n",
       "  float: left;\n",
       "  margin-right: 0.25em;\n",
       "  color: var(--sklearn-color-icon);\n",
       "}\n",
       "\n",
       "#sk-container-id-1 label.sk-toggleable__label-arrow:hover:before {\n",
       "  color: var(--sklearn-color-text);\n",
       "}\n",
       "\n",
       "/* Toggleable content - dropdown */\n",
       "\n",
       "#sk-container-id-1 div.sk-toggleable__content {\n",
       "  max-height: 0;\n",
       "  max-width: 0;\n",
       "  overflow: hidden;\n",
       "  text-align: left;\n",
       "  /* unfitted */\n",
       "  background-color: var(--sklearn-color-unfitted-level-0);\n",
       "}\n",
       "\n",
       "#sk-container-id-1 div.sk-toggleable__content.fitted {\n",
       "  /* fitted */\n",
       "  background-color: var(--sklearn-color-fitted-level-0);\n",
       "}\n",
       "\n",
       "#sk-container-id-1 div.sk-toggleable__content pre {\n",
       "  margin: 0.2em;\n",
       "  border-radius: 0.25em;\n",
       "  color: var(--sklearn-color-text);\n",
       "  /* unfitted */\n",
       "  background-color: var(--sklearn-color-unfitted-level-0);\n",
       "}\n",
       "\n",
       "#sk-container-id-1 div.sk-toggleable__content.fitted pre {\n",
       "  /* unfitted */\n",
       "  background-color: var(--sklearn-color-fitted-level-0);\n",
       "}\n",
       "\n",
       "#sk-container-id-1 input.sk-toggleable__control:checked~div.sk-toggleable__content {\n",
       "  /* Expand drop-down */\n",
       "  max-height: 200px;\n",
       "  max-width: 100%;\n",
       "  overflow: auto;\n",
       "}\n",
       "\n",
       "#sk-container-id-1 input.sk-toggleable__control:checked~label.sk-toggleable__label-arrow:before {\n",
       "  content: \"▾\";\n",
       "}\n",
       "\n",
       "/* Pipeline/ColumnTransformer-specific style */\n",
       "\n",
       "#sk-container-id-1 div.sk-label input.sk-toggleable__control:checked~label.sk-toggleable__label {\n",
       "  color: var(--sklearn-color-text);\n",
       "  background-color: var(--sklearn-color-unfitted-level-2);\n",
       "}\n",
       "\n",
       "#sk-container-id-1 div.sk-label.fitted input.sk-toggleable__control:checked~label.sk-toggleable__label {\n",
       "  background-color: var(--sklearn-color-fitted-level-2);\n",
       "}\n",
       "\n",
       "/* Estimator-specific style */\n",
       "\n",
       "/* Colorize estimator box */\n",
       "#sk-container-id-1 div.sk-estimator input.sk-toggleable__control:checked~label.sk-toggleable__label {\n",
       "  /* unfitted */\n",
       "  background-color: var(--sklearn-color-unfitted-level-2);\n",
       "}\n",
       "\n",
       "#sk-container-id-1 div.sk-estimator.fitted input.sk-toggleable__control:checked~label.sk-toggleable__label {\n",
       "  /* fitted */\n",
       "  background-color: var(--sklearn-color-fitted-level-2);\n",
       "}\n",
       "\n",
       "#sk-container-id-1 div.sk-label label.sk-toggleable__label,\n",
       "#sk-container-id-1 div.sk-label label {\n",
       "  /* The background is the default theme color */\n",
       "  color: var(--sklearn-color-text-on-default-background);\n",
       "}\n",
       "\n",
       "/* On hover, darken the color of the background */\n",
       "#sk-container-id-1 div.sk-label:hover label.sk-toggleable__label {\n",
       "  color: var(--sklearn-color-text);\n",
       "  background-color: var(--sklearn-color-unfitted-level-2);\n",
       "}\n",
       "\n",
       "/* Label box, darken color on hover, fitted */\n",
       "#sk-container-id-1 div.sk-label.fitted:hover label.sk-toggleable__label.fitted {\n",
       "  color: var(--sklearn-color-text);\n",
       "  background-color: var(--sklearn-color-fitted-level-2);\n",
       "}\n",
       "\n",
       "/* Estimator label */\n",
       "\n",
       "#sk-container-id-1 div.sk-label label {\n",
       "  font-family: monospace;\n",
       "  font-weight: bold;\n",
       "  display: inline-block;\n",
       "  line-height: 1.2em;\n",
       "}\n",
       "\n",
       "#sk-container-id-1 div.sk-label-container {\n",
       "  text-align: center;\n",
       "}\n",
       "\n",
       "/* Estimator-specific */\n",
       "#sk-container-id-1 div.sk-estimator {\n",
       "  font-family: monospace;\n",
       "  border: 1px dotted var(--sklearn-color-border-box);\n",
       "  border-radius: 0.25em;\n",
       "  box-sizing: border-box;\n",
       "  margin-bottom: 0.5em;\n",
       "  /* unfitted */\n",
       "  background-color: var(--sklearn-color-unfitted-level-0);\n",
       "}\n",
       "\n",
       "#sk-container-id-1 div.sk-estimator.fitted {\n",
       "  /* fitted */\n",
       "  background-color: var(--sklearn-color-fitted-level-0);\n",
       "}\n",
       "\n",
       "/* on hover */\n",
       "#sk-container-id-1 div.sk-estimator:hover {\n",
       "  /* unfitted */\n",
       "  background-color: var(--sklearn-color-unfitted-level-2);\n",
       "}\n",
       "\n",
       "#sk-container-id-1 div.sk-estimator.fitted:hover {\n",
       "  /* fitted */\n",
       "  background-color: var(--sklearn-color-fitted-level-2);\n",
       "}\n",
       "\n",
       "/* Specification for estimator info (e.g. \"i\" and \"?\") */\n",
       "\n",
       "/* Common style for \"i\" and \"?\" */\n",
       "\n",
       ".sk-estimator-doc-link,\n",
       "a:link.sk-estimator-doc-link,\n",
       "a:visited.sk-estimator-doc-link {\n",
       "  float: right;\n",
       "  font-size: smaller;\n",
       "  line-height: 1em;\n",
       "  font-family: monospace;\n",
       "  background-color: var(--sklearn-color-background);\n",
       "  border-radius: 1em;\n",
       "  height: 1em;\n",
       "  width: 1em;\n",
       "  text-decoration: none !important;\n",
       "  margin-left: 1ex;\n",
       "  /* unfitted */\n",
       "  border: var(--sklearn-color-unfitted-level-1) 1pt solid;\n",
       "  color: var(--sklearn-color-unfitted-level-1);\n",
       "}\n",
       "\n",
       ".sk-estimator-doc-link.fitted,\n",
       "a:link.sk-estimator-doc-link.fitted,\n",
       "a:visited.sk-estimator-doc-link.fitted {\n",
       "  /* fitted */\n",
       "  border: var(--sklearn-color-fitted-level-1) 1pt solid;\n",
       "  color: var(--sklearn-color-fitted-level-1);\n",
       "}\n",
       "\n",
       "/* On hover */\n",
       "div.sk-estimator:hover .sk-estimator-doc-link:hover,\n",
       ".sk-estimator-doc-link:hover,\n",
       "div.sk-label-container:hover .sk-estimator-doc-link:hover,\n",
       ".sk-estimator-doc-link:hover {\n",
       "  /* unfitted */\n",
       "  background-color: var(--sklearn-color-unfitted-level-3);\n",
       "  color: var(--sklearn-color-background);\n",
       "  text-decoration: none;\n",
       "}\n",
       "\n",
       "div.sk-estimator.fitted:hover .sk-estimator-doc-link.fitted:hover,\n",
       ".sk-estimator-doc-link.fitted:hover,\n",
       "div.sk-label-container:hover .sk-estimator-doc-link.fitted:hover,\n",
       ".sk-estimator-doc-link.fitted:hover {\n",
       "  /* fitted */\n",
       "  background-color: var(--sklearn-color-fitted-level-3);\n",
       "  color: var(--sklearn-color-background);\n",
       "  text-decoration: none;\n",
       "}\n",
       "\n",
       "/* Span, style for the box shown on hovering the info icon */\n",
       ".sk-estimator-doc-link span {\n",
       "  display: none;\n",
       "  z-index: 9999;\n",
       "  position: relative;\n",
       "  font-weight: normal;\n",
       "  right: .2ex;\n",
       "  padding: .5ex;\n",
       "  margin: .5ex;\n",
       "  width: min-content;\n",
       "  min-width: 20ex;\n",
       "  max-width: 50ex;\n",
       "  color: var(--sklearn-color-text);\n",
       "  box-shadow: 2pt 2pt 4pt #999;\n",
       "  /* unfitted */\n",
       "  background: var(--sklearn-color-unfitted-level-0);\n",
       "  border: .5pt solid var(--sklearn-color-unfitted-level-3);\n",
       "}\n",
       "\n",
       ".sk-estimator-doc-link.fitted span {\n",
       "  /* fitted */\n",
       "  background: var(--sklearn-color-fitted-level-0);\n",
       "  border: var(--sklearn-color-fitted-level-3);\n",
       "}\n",
       "\n",
       ".sk-estimator-doc-link:hover span {\n",
       "  display: block;\n",
       "}\n",
       "\n",
       "/* \"?\"-specific style due to the `<a>` HTML tag */\n",
       "\n",
       "#sk-container-id-1 a.estimator_doc_link {\n",
       "  float: right;\n",
       "  font-size: 1rem;\n",
       "  line-height: 1em;\n",
       "  font-family: monospace;\n",
       "  background-color: var(--sklearn-color-background);\n",
       "  border-radius: 1rem;\n",
       "  height: 1rem;\n",
       "  width: 1rem;\n",
       "  text-decoration: none;\n",
       "  /* unfitted */\n",
       "  color: var(--sklearn-color-unfitted-level-1);\n",
       "  border: var(--sklearn-color-unfitted-level-1) 1pt solid;\n",
       "}\n",
       "\n",
       "#sk-container-id-1 a.estimator_doc_link.fitted {\n",
       "  /* fitted */\n",
       "  border: var(--sklearn-color-fitted-level-1) 1pt solid;\n",
       "  color: var(--sklearn-color-fitted-level-1);\n",
       "}\n",
       "\n",
       "/* On hover */\n",
       "#sk-container-id-1 a.estimator_doc_link:hover {\n",
       "  /* unfitted */\n",
       "  background-color: var(--sklearn-color-unfitted-level-3);\n",
       "  color: var(--sklearn-color-background);\n",
       "  text-decoration: none;\n",
       "}\n",
       "\n",
       "#sk-container-id-1 a.estimator_doc_link.fitted:hover {\n",
       "  /* fitted */\n",
       "  background-color: var(--sklearn-color-fitted-level-3);\n",
       "}\n",
       "</style><div id=\"sk-container-id-1\" class=\"sk-top-container\"><div class=\"sk-text-repr-fallback\"><pre>LinearRegression()</pre><b>In a Jupyter environment, please rerun this cell to show the HTML representation or trust the notebook. <br />On GitHub, the HTML representation is unable to render, please try loading this page with nbviewer.org.</b></div><div class=\"sk-container\" hidden><div class=\"sk-item\"><div class=\"sk-estimator fitted sk-toggleable\"><input class=\"sk-toggleable__control sk-hidden--visually\" id=\"sk-estimator-id-1\" type=\"checkbox\" checked><label for=\"sk-estimator-id-1\" class=\"sk-toggleable__label fitted sk-toggleable__label-arrow fitted\">&nbsp;&nbsp;LinearRegression<a class=\"sk-estimator-doc-link fitted\" rel=\"noreferrer\" target=\"_blank\" href=\"https://scikit-learn.org/1.5/modules/generated/sklearn.linear_model.LinearRegression.html\">?<span>Documentation for LinearRegression</span></a><span class=\"sk-estimator-doc-link fitted\">i<span>Fitted</span></span></label><div class=\"sk-toggleable__content fitted\"><pre>LinearRegression()</pre></div> </div></div></div></div>"
      ],
      "text/plain": [
       "LinearRegression()"
      ]
     },
     "execution_count": 59,
     "metadata": {},
     "output_type": "execute_result"
    }
   ],
   "source": [
    "linear.fit(X_train, y_train)"
   ]
  },
  {
   "cell_type": "code",
   "execution_count": 60,
   "id": "96fa1e28-8564-4c18-8a26-9008ef72d356",
   "metadata": {},
   "outputs": [],
   "source": [
    "# Model Test"
   ]
  },
  {
   "cell_type": "code",
   "execution_count": 62,
   "id": "3f38fcec-ebfa-42cb-8ef8-652185afa8f0",
   "metadata": {},
   "outputs": [],
   "source": [
    "from sklearn.metrics import mean_absolute_error, mean_squared_error, r2_score"
   ]
  },
  {
   "cell_type": "code",
   "execution_count": 64,
   "id": "677967b9-1a3f-47c0-8735-1d84464d0e4a",
   "metadata": {},
   "outputs": [
    {
     "name": "stdout",
     "output_type": "stream",
     "text": [
      "Mean Absolute Error:  16126.046178854205\n",
      "Mean Squared Error:  400414087.67810094\n",
      "R2 Score:  0.9743740138650203\n"
     ]
    }
   ],
   "source": [
    "y_pred = linear.predict(X_test)\n",
    "mse = mean_squared_error(y_test, y_pred)\n",
    "mae = mean_absolute_error(y_test, y_pred)\n",
    "r2 = r2_score(y_test, y_pred)\n",
    "print(\"Mean Absolute Error: \", mae)\n",
    "print(\"Mean Squared Error: \", mse)\n",
    "print(\"R2 Score: \", r2)"
   ]
  },
  {
   "cell_type": "code",
   "execution_count": 65,
   "id": "4272e739-bfc8-4403-8056-171ad9b82a13",
   "metadata": {},
   "outputs": [
    {
     "data": {
      "image/png": "[encoded data removed]",
      "text/plain": [
       "<Figure size 640x480 with 1 Axes>"
      ]
     },
     "metadata": {},
     "output_type": "display_data"
    }
   ],
   "source": [
    "plt.scatter(y_test, y_pred)\n",
    "plt.show()"
   ]
  },
  {
   "cell_type": "markdown",
   "id": "e18c445c-daf5-453a-b850-246a476cc934",
   "metadata": {},
   "source": [
    "# Lasso"
   ]
  },
  {
   "cell_type": "code",
   "execution_count": 66,
   "id": "c6223949-f85f-4ef7-8085-23d50c17290e",
   "metadata": {},
   "outputs": [],
   "source": [
    "from sklearn.linear_model import Lasso"
   ]
  },
  {
   "cell_type": "code",
   "execution_count": 67,
   "id": "f856b819-8d3c-42c8-ac6e-2a9ad2072881",
   "metadata": {},
   "outputs": [
    {
     "name": "stdout",
     "output_type": "stream",
     "text": [
      "Mean Absolute Error:  16126.320921629467\n",
      "Mean Squared Error:  400437441.8503503\n",
      "R2 Score:  0.9743725192280616\n"
     ]
    }
   ],
   "source": [
    "lasso = Lasso()\n",
    "lasso.fit(X_train, y_train)\n",
    "\n",
    "y_pred = lasso.predict(X_test)\n",
    "mse = mean_squared_error(y_test, y_pred)\n",
    "mae = mean_absolute_error(y_test, y_pred)\n",
    "r2 = r2_score(y_test, y_pred)\n",
    "print(\"Mean Absolute Error: \", mae)\n",
    "print(\"Mean Squared Error: \", mse)\n",
    "print(\"R2 Score: \", r2)"
   ]
  },
  {
   "cell_type": "code",
   "execution_count": 68,
   "id": "d46c7608-c2e2-4710-9d8e-70cd966fa7a8",
   "metadata": {},
   "outputs": [
    {
     "data": {
      "text/plain": [
       "array([ 74883.56629512,  71326.6975454 ,  24010.73739302,  17633.6275346 ,\n",
       "        52950.47122913,  14938.89381469,  23313.98268629,  12827.6380582 ,\n",
       "        12895.23753594, -11435.99437447])"
      ]
     },
     "execution_count": 68,
     "metadata": {},
     "output_type": "execute_result"
    }
   ],
   "source": [
    "lasso.coef_"
   ]
  },
  {
   "cell_type": "markdown",
   "id": "b0756b86-655a-4507-8b49-116c9b9d664a",
   "metadata": {},
   "source": [
    "# Ridge"
   ]
  },
  {
   "cell_type": "code",
   "execution_count": 69,
   "id": "b38c0a4f-26cc-4db1-8997-144bad8a637c",
   "metadata": {},
   "outputs": [],
   "source": [
    "from sklearn.linear_model import Ridge"
   ]
  },
  {
   "cell_type": "code",
   "execution_count": 71,
   "id": "7a1c4770-dac8-4315-bbd4-ddcc6fb1888d",
   "metadata": {},
   "outputs": [
    {
     "name": "stdout",
     "output_type": "stream",
     "text": [
      "Mean Absolute Error:  16162.438750520747\n",
      "Mean Squared Error:  403893973.08644575\n",
      "R2 Score:  0.9741513056787459\n"
     ]
    }
   ],
   "source": [
    "ridge = Ridge()\n",
    "ridge.fit(X_train , y_train)\n",
    "\n",
    "y_pred = ridge.predict(X_test)\n",
    "mse = mean_squared_error(y_test, y_pred)\n",
    "mae = mean_absolute_error(y_test, y_pred)\n",
    "r2 = r2_score(y_test, y_pred)\n",
    "print(\"Mean Absolute Error: \", mae)\n",
    "print(\"Mean Squared Error: \", mse)\n",
    "print(\"R2 Score: \", r2)"
   ]
  },
  {
   "cell_type": "code",
   "execution_count": 72,
   "id": "e9840df3-4665-41d7-ba69-84246e3ee214",
   "metadata": {},
   "outputs": [
    {
     "data": {
      "text/plain": [
       "array([ 74649.52904124,  71130.28302221,  23941.7248197 ,  17604.24595115,\n",
       "        52800.71544597,  14894.00169135,  23244.26803958,  12758.37350495,\n",
       "        12849.04859145, -11371.74214511])"
      ]
     },
     "execution_count": 72,
     "metadata": {},
     "output_type": "execute_result"
    }
   ],
   "source": [
    "ridge.coef_"
   ]
  },
  {
   "cell_type": "markdown",
   "id": "1345b1e5-2d29-4ab4-9791-3ec1544572cd",
   "metadata": {},
   "source": [
    "# Elastic Net"
   ]
  },
  {
   "cell_type": "code",
   "execution_count": 73,
   "id": "3871c43a-92b3-4878-a620-a80710f5c419",
   "metadata": {},
   "outputs": [],
   "source": [
    "from sklearn.linear_model import ElasticNet"
   ]
  },
  {
   "cell_type": "code",
   "execution_count": 75,
   "id": "281bbe51-5311-4ba8-ac67-55c25a547fde",
   "metadata": {},
   "outputs": [
    {
     "name": "stdout",
     "output_type": "stream",
     "text": [
      "Mean Absolute Error:  41644.23117372542\n",
      "Mean Squared Error:  2646036857.3275175\n",
      "R2 Score:  0.8306570475286789\n"
     ]
    }
   ],
   "source": [
    "elasticnet = ElasticNet()\n",
    "elasticnet.fit(X_train, y_train)\n",
    "\n",
    "y_pred = elasticnet.predict(X_test)\n",
    "mse = mean_squared_error(y_test, y_pred)\n",
    "mae = mean_absolute_error(y_test, y_pred)\n",
    "r2 = r2_score(y_test, y_pred)\n",
    "print(\"Mean Absolute Error: \", mae)\n",
    "print(\"Mean Squared Error: \", mse)\n",
    "print(\"R2 Score: \", r2)"
   ]
  },
  {
   "cell_type": "code",
   "execution_count": 80,
   "id": "50752e8e-edbb-4f36-a1b2-685dcc82849a",
   "metadata": {},
   "outputs": [
    {
     "data": {
      "text/plain": [
       "array([47208.8570785 , 47068.60581719, 15368.94460004, 13172.36093512,\n",
       "       34576.19011872,  9523.30127479, 14861.74204072,  5522.59394297,\n",
       "        7604.47175057, -4832.44087635])"
      ]
     },
     "execution_count": 80,
     "metadata": {},
     "output_type": "execute_result"
    }
   ],
   "source": [
    "elasticnet.coef_"
   ]
  },
  {
   "cell_type": "markdown",
   "id": "1d2d4ffe-c52a-4a1a-a684-f3a83cb783d3",
   "metadata": {},
   "source": [
    "---\n",
    "# Cross Validation of These Models"
   ]
  },
  {
   "cell_type": "code",
   "execution_count": 77,
   "id": "61547337-696b-4765-84fc-30f97698aca8",
   "metadata": {},
   "outputs": [],
   "source": [
    "from sklearn.linear_model import LassoCV, RidgeCV, ElasticNetCV\n",
    "lassoCV = LassoCV(cv=5)\n",
    "ridgeCV = RidgeCV(cv=5)\n",
    "elasticCV = ElasticNetCV(cv=5)"
   ]
  },
  {
   "cell_type": "code",
   "execution_count": 78,
   "id": "839356ff-d9fb-462b-92fc-2dcbd4ddde9c",
   "metadata": {},
   "outputs": [
    {
     "name": "stdout",
     "output_type": "stream",
     "text": [
      "R2 Score:  0.9742655069316256\n"
     ]
    }
   ],
   "source": [
    "lassoCV.fit(X_train, y_train)\n",
    "\n",
    "y_pred = lassoCV.predict(X_test)\n",
    "r2 = r2_score(y_test, y_pred)\n",
    "print(\"R2 Score: \", r2)"
   ]
  },
  {
   "cell_type": "code",
   "execution_count": 79,
   "id": "5578c8ec-2b41-4c08-a2f4-a9820f9d5ec6",
   "metadata": {},
   "outputs": [
    {
     "name": "stdout",
     "output_type": "stream",
     "text": [
      "R2 Score:  0.9743524340353972\n"
     ]
    }
   ],
   "source": [
    "ridgeCV.fit(X_train, y_train)\n",
    "\n",
    "y_pred = ridgeCV.predict(X_test)\n",
    "r2 = r2_score(y_test, y_pred)\n",
    "print(\"R2 Score: \", r2)"
   ]
  },
  {
   "cell_type": "code",
   "execution_count": 82,
   "id": "a61ab151-1840-458f-831b-0ab6853346ff",
   "metadata": {},
   "outputs": [
    {
     "name": "stdout",
     "output_type": "stream",
     "text": [
      "R2 Score:  0.01592852369961839\n"
     ]
    }
   ],
   "source": [
    "elasticCV.fit(X_train, y_train)\n",
    "\n",
    "y_pred = elasticCV.predict(X_test)\n",
    "r2 = r2_score(y_test, y_pred)\n",
    "print(\"R2 Score: \", r2)"
   ]
  },
  {
   "cell_type": "code",
   "execution_count": null,
   "id": "9ccf21f9-c256-47ac-8a4c-fb94db64372a",
   "metadata": {},
   "outputs": [],
   "source": []
  }
 ],
 "metadata": {
  "kernelspec": {
   "display_name": "Python 3 (ipykernel)",
   "language": "python",
   "name": "python3"
  },
  "language_info": {
   "codemirror_mode": {
    "name": "ipython",
    "version": 3
   },
   "file_extension": ".py",
   "mimetype": "text/x-python",
   "name": "python",
   "nbconvert_exporter": "python",
   "pygments_lexer": "ipython3",
   "version": "3.12.7"
  }
 },
 "nbformat": 4,
 "nbformat_minor": 5
}
