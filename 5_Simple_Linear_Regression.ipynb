{
 "cells": [
  {
   "cell_type": "code",
   "execution_count": 1,
   "id": "ae35fad9-5209-4719-a74a-ab0553cf29c0",
   "metadata": {},
   "outputs": [],
   "source": [
    "import pandas as pd\n",
    "import numpy as np\n",
    "from matplotlib import pyplot as plt\n",
    "import seaborn as sns\n",
    "%matplotlib inline"
   ]
  },
  {
   "cell_type": "code",
   "execution_count": 2,
   "id": "baed9f65-22bf-494e-a2c3-ebddc283e2af",
   "metadata": {},
   "outputs": [],
   "source": [
    "df = pd.read_csv(\"5-studyhours.csv\")"
   ]
  },
  {
   "cell_type": "code",
   "execution_count": 3,
   "id": "26cb07d7-e9bf-47e4-a255-06bc40e2fcfd",
   "metadata": {},
   "outputs": [
    {
     "data": {
      "text/html": [
       "<div>\n",
       "<style scoped>\n",
       "    .dataframe tbody tr th:only-of-type {\n",
       "        vertical-align: middle;\n",
       "    }\n",
       "\n",
       "    .dataframe tbody tr th {\n",
       "        vertical-align: top;\n",
       "    }\n",
       "\n",
       "    .dataframe thead th {\n",
       "        text-align: right;\n",
       "    }\n",
       "</style>\n",
       "<table border=\"1\" class=\"dataframe\">\n",
       "  <thead>\n",
       "    <tr style=\"text-align: right;\">\n",
       "      <th></th>\n",
       "      <th>Study Hours</th>\n",
       "      <th>Exam Score</th>\n",
       "    </tr>\n",
       "  </thead>\n",
       "  <tbody>\n",
       "    <tr>\n",
       "      <th>0</th>\n",
       "      <td>3.9</td>\n",
       "      <td>40.0</td>\n",
       "    </tr>\n",
       "    <tr>\n",
       "      <th>1</th>\n",
       "      <td>9.6</td>\n",
       "      <td>57.1</td>\n",
       "    </tr>\n",
       "    <tr>\n",
       "      <th>2</th>\n",
       "      <td>4.5</td>\n",
       "      <td>42.7</td>\n",
       "    </tr>\n",
       "    <tr>\n",
       "      <th>3</th>\n",
       "      <td>11.4</td>\n",
       "      <td>65.1</td>\n",
       "    </tr>\n",
       "    <tr>\n",
       "      <th>4</th>\n",
       "      <td>14.4</td>\n",
       "      <td>78.7</td>\n",
       "    </tr>\n",
       "  </tbody>\n",
       "</table>\n",
       "</div>"
      ],
      "text/plain": [
       "   Study Hours  Exam Score\n",
       "0          3.9        40.0\n",
       "1          9.6        57.1\n",
       "2          4.5        42.7\n",
       "3         11.4        65.1\n",
       "4         14.4        78.7"
      ]
     },
     "execution_count": 3,
     "metadata": {},
     "output_type": "execute_result"
    }
   ],
   "source": [
    "df.head()"
   ]
  },
  {
   "cell_type": "code",
   "execution_count": 4,
   "id": "0908123a-2e43-45c1-b15a-2cb4a0e38d6f",
   "metadata": {},
   "outputs": [
    {
     "name": "stdout",
     "output_type": "stream",
     "text": [
      "<class 'pandas.core.frame.DataFrame'>\n",
      "RangeIndex: 33 entries, 0 to 32\n",
      "Data columns (total 2 columns):\n",
      " #   Column       Non-Null Count  Dtype  \n",
      "---  ------       --------------  -----  \n",
      " 0   Study Hours  33 non-null     float64\n",
      " 1   Exam Score   33 non-null     float64\n",
      "dtypes: float64(2)\n",
      "memory usage: 660.0 bytes\n"
     ]
    }
   ],
   "source": [
    "df.info()"
   ]
  },
  {
   "cell_type": "code",
   "execution_count": 5,
   "id": "3349a74c-2e29-428d-af36-5f5270176932",
   "metadata": {},
   "outputs": [
    {
     "data": {
      "text/html": [
       "<div>\n",
       "<style scoped>\n",
       "    .dataframe tbody tr th:only-of-type {\n",
       "        vertical-align: middle;\n",
       "    }\n",
       "\n",
       "    .dataframe tbody tr th {\n",
       "        vertical-align: top;\n",
       "    }\n",
       "\n",
       "    .dataframe thead th {\n",
       "        text-align: right;\n",
       "    }\n",
       "</style>\n",
       "<table border=\"1\" class=\"dataframe\">\n",
       "  <thead>\n",
       "    <tr style=\"text-align: right;\">\n",
       "      <th></th>\n",
       "      <th>Study Hours</th>\n",
       "      <th>Exam Score</th>\n",
       "    </tr>\n",
       "  </thead>\n",
       "  <tbody>\n",
       "    <tr>\n",
       "      <th>count</th>\n",
       "      <td>33.000000</td>\n",
       "      <td>33.000000</td>\n",
       "    </tr>\n",
       "    <tr>\n",
       "      <th>mean</th>\n",
       "      <td>15.772727</td>\n",
       "      <td>74.612121</td>\n",
       "    </tr>\n",
       "    <tr>\n",
       "      <th>std</th>\n",
       "      <td>7.608723</td>\n",
       "      <td>18.711206</td>\n",
       "    </tr>\n",
       "    <tr>\n",
       "      <th>min</th>\n",
       "      <td>3.000000</td>\n",
       "      <td>40.000000</td>\n",
       "    </tr>\n",
       "    <tr>\n",
       "      <th>25%</th>\n",
       "      <td>9.600000</td>\n",
       "      <td>58.500000</td>\n",
       "    </tr>\n",
       "    <tr>\n",
       "      <th>50%</th>\n",
       "      <td>17.400000</td>\n",
       "      <td>78.800000</td>\n",
       "    </tr>\n",
       "    <tr>\n",
       "      <th>75%</th>\n",
       "      <td>21.300000</td>\n",
       "      <td>90.800000</td>\n",
       "    </tr>\n",
       "    <tr>\n",
       "      <th>max</th>\n",
       "      <td>30.000000</td>\n",
       "      <td>100.000000</td>\n",
       "    </tr>\n",
       "  </tbody>\n",
       "</table>\n",
       "</div>"
      ],
      "text/plain": [
       "       Study Hours  Exam Score\n",
       "count    33.000000   33.000000\n",
       "mean     15.772727   74.612121\n",
       "std       7.608723   18.711206\n",
       "min       3.000000   40.000000\n",
       "25%       9.600000   58.500000\n",
       "50%      17.400000   78.800000\n",
       "75%      21.300000   90.800000\n",
       "max      30.000000  100.000000"
      ]
     },
     "execution_count": 5,
     "metadata": {},
     "output_type": "execute_result"
    }
   ],
   "source": [
    "df.describe()"
   ]
  },
  {
   "cell_type": "markdown",
   "id": "ea513987-e135-4781-9c72-ded3fab64613",
   "metadata": {},
   "source": [
    "Buralarda veri setime göz gezdirdim. Sadece 33 tane satır varmış bunu öğrenmiş oldum. 2 tane ise kolon bulunuyor. İkisindeki verilerde float türündeymiş. Bunları anlamış oldum."
   ]
  },
  {
   "cell_type": "markdown",
   "id": "def56499-6fe3-4211-b42d-0c263afda393",
   "metadata": {},
   "source": [
    "Buraya bir tane scatter plot çizerek içeriğini görmeye çalışayım."
   ]
  },
  {
   "cell_type": "code",
   "execution_count": 6,
   "id": "fa0c0684-b406-4dd4-a540-be9d97897bf1",
   "metadata": {},
   "outputs": [
    {
     "data": {
      "image/png": "[encoded data removed]",
      "text/plain": [
       "<Figure size 640x480 with 1 Axes>"
      ]
     },
     "metadata": {},
     "output_type": "display_data"
    }
   ],
   "source": [
    "plt.scatter(df[\"Study Hours\"],df[\"Exam Score\"])\n",
    "plt.xlabel(\"Study Hours\")\n",
    "plt.ylabel(\"Exam Score\")\n",
    "plt.show()"
   ]
  },
  {
   "cell_type": "markdown",
   "id": "e01fe206-a3fa-420b-afc3-01a0361f5b60",
   "metadata": {},
   "source": [
    "----\n",
    "# INDEPENDENT AND DEPENDENT FEATURES"
   ]
  },
  {
   "cell_type": "markdown",
   "id": "04c55d00-054f-4cc3-af46-6276440c6937",
   "metadata": {},
   "source": [
    "Bu işlerin raconu olacak şekilde girdi genelde X (büyük X), çıktı ise y (küçük y) ile yazılır. Ama dikkat edilmesi gereken şey X değerlerini python bizden dataFrame olarak ister. Bu yüzden aşağıdaki gibi\n",
    "\n",
    "X =df[[\"Study Hours\"]]\n",
    "\n",
    "iki tane köşeli parantez içerisinde X değerini alırız. Hani başka girdiler de olabilir vs diyerek. y çıktısını normal tek parantezde yazarız.\n",
    "\n",
    "y =df[[\"Exam Score\"]]"
   ]
  },
  {
   "cell_type": "code",
   "execution_count": 7,
   "id": "357ae0de-0855-45cf-8140-67751977c67a",
   "metadata": {},
   "outputs": [],
   "source": [
    "X = df[[\"Study Hours\"]]\n",
    "y = df[\"Exam Score\"]"
   ]
  },
  {
   "cell_type": "code",
   "execution_count": 8,
   "id": "147ff307-2901-4cc4-8c04-4231c8d6c7ab",
   "metadata": {},
   "outputs": [
    {
     "data": {
      "text/plain": [
       "pandas.core.frame.DataFrame"
      ]
     },
     "execution_count": 8,
     "metadata": {},
     "output_type": "execute_result"
    }
   ],
   "source": [
    "type(X)"
   ]
  },
  {
   "cell_type": "code",
   "execution_count": 9,
   "id": "6628a840-a16b-47ca-93ba-11d3da6de544",
   "metadata": {},
   "outputs": [
    {
     "data": {
      "text/plain": [
       "pandas.core.series.Series"
      ]
     },
     "execution_count": 9,
     "metadata": {},
     "output_type": "execute_result"
    }
   ],
   "source": [
    "type(y)"
   ]
  },
  {
   "cell_type": "markdown",
   "id": "7a6a872f-a59f-45bc-a405-dc6c273eee03",
   "metadata": {},
   "source": [
    "---\n",
    "# TEST TRAIN SPLIT"
   ]
  },
  {
   "cell_type": "markdown",
   "id": "feb7265b-9dda-4b77-a1de-1db42c3a40f8",
   "metadata": {},
   "source": [
    "Veri setini modeli eğitmek ve test etmek için ikiye ayıracağız. Test verisini eğittiğimiz modelin başarısını ölçmek için kullanacağız."
   ]
  },
  {
   "cell_type": "code",
   "execution_count": 10,
   "id": "17d2c8e5-94dd-45c2-98bc-d3255a84674f",
   "metadata": {},
   "outputs": [],
   "source": [
    "from sklearn.model_selection import train_test_split    # Bu split işlemini yapmak için kullanacağımız sklearn kütüphanesi"
   ]
  },
  {
   "cell_type": "code",
   "execution_count": 11,
   "id": "88f246fc-f43a-4883-83f8-d39509c40015",
   "metadata": {},
   "outputs": [],
   "source": [
    "X_train, X_test, y_train, y_test = train_test_split(X, y, test_size=0.2, random_state = 36)"
   ]
  },
  {
   "cell_type": "markdown",
   "id": "295f99f9-50d2-4366-b7f2-77438d2261db",
   "metadata": {},
   "source": [
    "X_train, x_test, y_train, y_test  şeklinde olan bu yazım standart olacak ve hep bu şekilde yazmamız gerekecek. \n",
    "\n",
    "test_size = 0.2 diyerek yüzde 20'sinin test için kullanılmasını istedim. Geri kalan kısmı eğitim için kullanılacak. \n",
    "\n",
    "random_state = 36 diyerek ise tekrar tekrar çalıştırırsam aynı bölmeyi yapsın diye oluşturuldu. \n",
    "\n",
    "Veri setini bu şekilde ayırmak çok önemli. Ekstra gerekli ayarlama yapmak gerekiyorsa üzerine gelip shift + tab yaparak detaylı özelliklerini görebiliriz."
   ]
  },
  {
   "cell_type": "markdown",
   "id": "31c7e99d-c649-4899-942a-fce405781d98",
   "metadata": {},
   "source": [
    "---\n",
    "# STANDARDIZE THE DATA SET"
   ]
  },
  {
   "cell_type": "code",
   "execution_count": 12,
   "id": "a56b249f-20ca-4add-80bb-783ad1918a08",
   "metadata": {},
   "outputs": [],
   "source": [
    "from sklearn.preprocessing import StandardScaler    # Bu işlemi yapmak için kullanacağımız sklearn kütüphanesi"
   ]
  },
  {
   "attachments": {
    "812e513b-8ef6-425c-955c-7a03ff8233e5.png": {
     "image/png": "[encoded data removed]"
    }
   },
   "cell_type": "markdown",
   "id": "061c440f-b91f-4d79-8b0e-c76595d957c3",
   "metadata": {},
   "source": [
    "![image.png](attachment:812e513b-8ef6-425c-955c-7a03ff8233e5.png)"
   ]
  },
  {
   "cell_type": "markdown",
   "id": "141caaa8-29f6-4665-8b1d-21aae3a302b2",
   "metadata": {},
   "source": [
    "Bu tarz bir işlem yapıp mantıklı algoritmalar elde etmeye çalışacağız.\n",
    "\n",
    "Teknik olarak: Her özelliği (feature) ortalaması 0, standart sapması 1 olacak şekilde dönüştürürüz.\n",
    "\n",
    "Model, \"gelir\" çok büyük olduğu için daha önemli sanabilir, ama bu her zaman doğru değildir. Standartlaştırma yapmazsak, model ağırlıklı olarak büyük sayılara göre öğrenir."
   ]
  },
  {
   "cell_type": "code",
   "execution_count": 13,
   "id": "67d18334-a7ee-4fb4-9b42-bd9b52ab3552",
   "metadata": {},
   "outputs": [],
   "source": [
    "#balanced featur values\n",
    "#efficient gradient descent\n",
    "#l1, l2\n",
    "\n",
    "# Standartlaştırma işlemi bunlara yarıyor."
   ]
  },
  {
   "cell_type": "code",
   "execution_count": 14,
   "id": "138d05fb-4546-47d5-bac3-9cdcd7273aaf",
   "metadata": {},
   "outputs": [
    {
     "data": {
      "text/html": [
       "<div>\n",
       "<style scoped>\n",
       "    .dataframe tbody tr th:only-of-type {\n",
       "        vertical-align: middle;\n",
       "    }\n",
       "\n",
       "    .dataframe tbody tr th {\n",
       "        vertical-align: top;\n",
       "    }\n",
       "\n",
       "    .dataframe thead th {\n",
       "        text-align: right;\n",
       "    }\n",
       "</style>\n",
       "<table border=\"1\" class=\"dataframe\">\n",
       "  <thead>\n",
       "    <tr style=\"text-align: right;\">\n",
       "      <th></th>\n",
       "      <th>Study Hours</th>\n",
       "    </tr>\n",
       "  </thead>\n",
       "  <tbody>\n",
       "    <tr>\n",
       "      <th>29</th>\n",
       "      <td>19.5</td>\n",
       "    </tr>\n",
       "    <tr>\n",
       "      <th>23</th>\n",
       "      <td>3.0</td>\n",
       "    </tr>\n",
       "    <tr>\n",
       "      <th>16</th>\n",
       "      <td>5.7</td>\n",
       "    </tr>\n",
       "    <tr>\n",
       "      <th>11</th>\n",
       "      <td>26.1</td>\n",
       "    </tr>\n",
       "    <tr>\n",
       "      <th>3</th>\n",
       "      <td>11.4</td>\n",
       "    </tr>\n",
       "    <tr>\n",
       "      <th>14</th>\n",
       "      <td>21.0</td>\n",
       "    </tr>\n",
       "    <tr>\n",
       "      <th>25</th>\n",
       "      <td>5.1</td>\n",
       "    </tr>\n",
       "    <tr>\n",
       "      <th>21</th>\n",
       "      <td>8.1</td>\n",
       "    </tr>\n",
       "    <tr>\n",
       "      <th>18</th>\n",
       "      <td>17.4</td>\n",
       "    </tr>\n",
       "    <tr>\n",
       "      <th>24</th>\n",
       "      <td>9.6</td>\n",
       "    </tr>\n",
       "    <tr>\n",
       "      <th>28</th>\n",
       "      <td>17.7</td>\n",
       "    </tr>\n",
       "    <tr>\n",
       "      <th>19</th>\n",
       "      <td>21.3</td>\n",
       "    </tr>\n",
       "    <tr>\n",
       "      <th>22</th>\n",
       "      <td>14.4</td>\n",
       "    </tr>\n",
       "    <tr>\n",
       "      <th>0</th>\n",
       "      <td>3.9</td>\n",
       "    </tr>\n",
       "    <tr>\n",
       "      <th>4</th>\n",
       "      <td>14.4</td>\n",
       "    </tr>\n",
       "    <tr>\n",
       "      <th>6</th>\n",
       "      <td>19.2</td>\n",
       "    </tr>\n",
       "    <tr>\n",
       "      <th>32</th>\n",
       "      <td>18.9</td>\n",
       "    </tr>\n",
       "    <tr>\n",
       "      <th>9</th>\n",
       "      <td>17.4</td>\n",
       "    </tr>\n",
       "    <tr>\n",
       "      <th>12</th>\n",
       "      <td>30.0</td>\n",
       "    </tr>\n",
       "    <tr>\n",
       "      <th>27</th>\n",
       "      <td>15.6</td>\n",
       "    </tr>\n",
       "    <tr>\n",
       "      <th>26</th>\n",
       "      <td>9.6</td>\n",
       "    </tr>\n",
       "    <tr>\n",
       "      <th>1</th>\n",
       "      <td>9.6</td>\n",
       "    </tr>\n",
       "    <tr>\n",
       "      <th>8</th>\n",
       "      <td>25.2</td>\n",
       "    </tr>\n",
       "    <tr>\n",
       "      <th>30</th>\n",
       "      <td>23.4</td>\n",
       "    </tr>\n",
       "    <tr>\n",
       "      <th>2</th>\n",
       "      <td>4.5</td>\n",
       "    </tr>\n",
       "    <tr>\n",
       "      <th>5</th>\n",
       "      <td>18.0</td>\n",
       "    </tr>\n",
       "  </tbody>\n",
       "</table>\n",
       "</div>"
      ],
      "text/plain": [
       "    Study Hours\n",
       "29         19.5\n",
       "23          3.0\n",
       "16          5.7\n",
       "11         26.1\n",
       "3          11.4\n",
       "14         21.0\n",
       "25          5.1\n",
       "21          8.1\n",
       "18         17.4\n",
       "24          9.6\n",
       "28         17.7\n",
       "19         21.3\n",
       "22         14.4\n",
       "0           3.9\n",
       "4          14.4\n",
       "6          19.2\n",
       "32         18.9\n",
       "9          17.4\n",
       "12         30.0\n",
       "27         15.6\n",
       "26          9.6\n",
       "1           9.6\n",
       "8          25.2\n",
       "30         23.4\n",
       "2           4.5\n",
       "5          18.0"
      ]
     },
     "execution_count": 14,
     "metadata": {},
     "output_type": "execute_result"
    }
   ],
   "source": [
    "X_train    # Standartlaştırma yapmadan önceki X_train"
   ]
  },
  {
   "cell_type": "code",
   "execution_count": 15,
   "id": "bf6aca25-0981-4187-984e-ffa3711fa1ca",
   "metadata": {},
   "outputs": [],
   "source": [
    "scaler = StandardScaler()"
   ]
  },
  {
   "cell_type": "code",
   "execution_count": 16,
   "id": "5901a037-6d6f-428c-acfa-0edc13e40d0f",
   "metadata": {},
   "outputs": [],
   "source": [
    "X_train = scaler.fit_transform(X_train)\n",
    "X_test = scaler.transform(X_test)"
   ]
  },
  {
   "cell_type": "code",
   "execution_count": 17,
   "id": "f08c12ad-9bc6-4ec2-934a-7c874a777222",
   "metadata": {},
   "outputs": [
    {
     "data": {
      "text/plain": [
       "array([[ 0.61533794],\n",
       "       [-1.64090117],\n",
       "       [-1.2716984 ],\n",
       "       [ 1.51783358],\n",
       "       [-0.49227035],\n",
       "       [ 0.82045058],\n",
       "       [-1.35374346],\n",
       "       [-0.94351817],\n",
       "       [ 0.32818023],\n",
       "       [-0.73840552],\n",
       "       [ 0.36920276],\n",
       "       [ 0.86147311],\n",
       "       [-0.08204506],\n",
       "       [-1.51783358],\n",
       "       [-0.08204506],\n",
       "       [ 0.57431541],\n",
       "       [ 0.53329288],\n",
       "       [ 0.32818023],\n",
       "       [ 2.05112646],\n",
       "       [ 0.08204506],\n",
       "       [-0.73840552],\n",
       "       [-0.73840552],\n",
       "       [ 1.39476599],\n",
       "       [ 1.14863082],\n",
       "       [-1.43578852],\n",
       "       [ 0.41022529]])"
      ]
     },
     "execution_count": 17,
     "metadata": {},
     "output_type": "execute_result"
    }
   ],
   "source": [
    "X_train    #Bu da standartkaştırma yaptıktan sonraki X_train değerleri"
   ]
  },
  {
   "attachments": {
    "a8959cc1-bf12-42aa-bcb8-69c979e69354.png": {
     "image/png": "[encoded data removed]"
    }
   },
   "cell_type": "markdown",
   "id": "54b7c076-1fb8-4bc2-b140-e04043f3cec7",
   "metadata": {},
   "source": [
    "![image.png](attachment:a8959cc1-bf12-42aa-bcb8-69c979e69354.png)"
   ]
  },
  {
   "cell_type": "markdown",
   "id": "e6c34f5b-7595-4b97-80ac-9bbd34448f32",
   "metadata": {},
   "source": [
    "Burada neden train verisine fit_transform(), test verisine neden sadece transform() uyguladığımızı görüyoruz. Gerçekçi bir model eğitimi için test verisi eğitim verisinden öğrenilen kurallara göre işlenmeli. Test verisini fit edersen, veri sızdırma (data leakage) olur ve modelin gerçek performansı çarpıtılır."
   ]
  },
  {
   "cell_type": "markdown",
   "id": "d10f4843-c772-4170-9a34-fc568a2a0397",
   "metadata": {},
   "source": [
    "---\n",
    "# MODEL EĞİTMEK"
   ]
  },
  {
   "cell_type": "code",
   "execution_count": 18,
   "id": "190f33d0-1a5e-42b0-b397-f5806e90a9e1",
   "metadata": {},
   "outputs": [],
   "source": [
    "from sklearn.linear_model import LinearRegression"
   ]
  },
  {
   "cell_type": "code",
   "execution_count": 19,
   "id": "58cfdf62-5f18-4aae-b678-1cbb6c1f0035",
   "metadata": {},
   "outputs": [],
   "source": [
    "regression = LinearRegression()"
   ]
  },
  {
   "cell_type": "code",
   "execution_count": 20,
   "id": "fd687482-8cb2-4301-9989-eb4e81188bfb",
   "metadata": {},
   "outputs": [
    {
     "data": {
      "text/html": [
       "<style>#sk-container-id-1 {\n",
       "  /* Definition of color scheme common for light and dark mode */\n",
       "  --sklearn-color-text: black;\n",
       "  --sklearn-color-line: gray;\n",
       "  /* Definition of color scheme for unfitted estimators */\n",
       "  --sklearn-color-unfitted-level-0: #fff5e6;\n",
       "  --sklearn-color-unfitted-level-1: #f6e4d2;\n",
       "  --sklearn-color-unfitted-level-2: #ffe0b3;\n",
       "  --sklearn-color-unfitted-level-3: chocolate;\n",
       "  /* Definition of color scheme for fitted estimators */\n",
       "  --sklearn-color-fitted-level-0: #f0f8ff;\n",
       "  --sklearn-color-fitted-level-1: #d4ebff;\n",
       "  --sklearn-color-fitted-level-2: #b3dbfd;\n",
       "  --sklearn-color-fitted-level-3: cornflowerblue;\n",
       "\n",
       "  /* Specific color for light theme */\n",
       "  --sklearn-color-text-on-default-background: var(--sg-text-color, var(--theme-code-foreground, var(--jp-content-font-color1, black)));\n",
       "  --sklearn-color-background: var(--sg-background-color, var(--theme-background, var(--jp-layout-color0, white)));\n",
       "  --sklearn-color-border-box: var(--sg-text-color, var(--theme-code-foreground, var(--jp-content-font-color1, black)));\n",
       "  --sklearn-color-icon: #696969;\n",
       "\n",
       "  @media (prefers-color-scheme: dark) {\n",
       "    /* Redefinition of color scheme for dark theme */\n",
       "    --sklearn-color-text-on-default-background: var(--sg-text-color, var(--theme-code-foreground, var(--jp-content-font-color1, white)));\n",
       "    --sklearn-color-background: var(--sg-background-color, var(--theme-background, var(--jp-layout-color0, #111)));\n",
       "    --sklearn-color-border-box: var(--sg-text-color, var(--theme-code-foreground, var(--jp-content-font-color1, white)));\n",
       "    --sklearn-color-icon: #878787;\n",
       "  }\n",
       "}\n",
       "\n",
       "#sk-container-id-1 {\n",
       "  color: var(--sklearn-color-text);\n",
       "}\n",
       "\n",
       "#sk-container-id-1 pre {\n",
       "  padding: 0;\n",
       "}\n",
       "\n",
       "#sk-container-id-1 input.sk-hidden--visually {\n",
       "  border: 0;\n",
       "  clip: rect(1px 1px 1px 1px);\n",
       "  clip: rect(1px, 1px, 1px, 1px);\n",
       "  height: 1px;\n",
       "  margin: -1px;\n",
       "  overflow: hidden;\n",
       "  padding: 0;\n",
       "  position: absolute;\n",
       "  width: 1px;\n",
       "}\n",
       "\n",
       "#sk-container-id-1 div.sk-dashed-wrapped {\n",
       "  border: 1px dashed var(--sklearn-color-line);\n",
       "  margin: 0 0.4em 0.5em 0.4em;\n",
       "  box-sizing: border-box;\n",
       "  padding-bottom: 0.4em;\n",
       "  background-color: var(--sklearn-color-background);\n",
       "}\n",
       "\n",
       "#sk-container-id-1 div.sk-container {\n",
       "  /* jupyter's `normalize.less` sets `[hidden] { display: none; }`\n",
       "     but bootstrap.min.css set `[hidden] { display: none !important; }`\n",
       "     so we also need the `!important` here to be able to override the\n",
       "     default hidden behavior on the sphinx rendered scikit-learn.org.\n",
       "     See: https://github.com/scikit-learn/scikit-learn/issues/21755 */\n",
       "  display: inline-block !important;\n",
       "  position: relative;\n",
       "}\n",
       "\n",
       "#sk-container-id-1 div.sk-text-repr-fallback {\n",
       "  display: none;\n",
       "}\n",
       "\n",
       "div.sk-parallel-item,\n",
       "div.sk-serial,\n",
       "div.sk-item {\n",
       "  /* draw centered vertical line to link estimators */\n",
       "  background-image: linear-gradient(var(--sklearn-color-text-on-default-background), var(--sklearn-color-text-on-default-background));\n",
       "  background-size: 2px 100%;\n",
       "  background-repeat: no-repeat;\n",
       "  background-position: center center;\n",
       "}\n",
       "\n",
       "/* Parallel-specific style estimator block */\n",
       "\n",
       "#sk-container-id-1 div.sk-parallel-item::after {\n",
       "  content: \"\";\n",
       "  width: 100%;\n",
       "  border-bottom: 2px solid var(--sklearn-color-text-on-default-background);\n",
       "  flex-grow: 1;\n",
       "}\n",
       "\n",
       "#sk-container-id-1 div.sk-parallel {\n",
       "  display: flex;\n",
       "  align-items: stretch;\n",
       "  justify-content: center;\n",
       "  background-color: var(--sklearn-color-background);\n",
       "  position: relative;\n",
       "}\n",
       "\n",
       "#sk-container-id-1 div.sk-parallel-item {\n",
       "  display: flex;\n",
       "  flex-direction: column;\n",
       "}\n",
       "\n",
       "#sk-container-id-1 div.sk-parallel-item:first-child::after {\n",
       "  align-self: flex-end;\n",
       "  width: 50%;\n",
       "}\n",
       "\n",
       "#sk-container-id-1 div.sk-parallel-item:last-child::after {\n",
       "  align-self: flex-start;\n",
       "  width: 50%;\n",
       "}\n",
       "\n",
       "#sk-container-id-1 div.sk-parallel-item:only-child::after {\n",
       "  width: 0;\n",
       "}\n",
       "\n",
       "/* Serial-specific style estimator block */\n",
       "\n",
       "#sk-container-id-1 div.sk-serial {\n",
       "  display: flex;\n",
       "  flex-direction: column;\n",
       "  align-items: center;\n",
       "  background-color: var(--sklearn-color-background);\n",
       "  padding-right: 1em;\n",
       "  padding-left: 1em;\n",
       "}\n",
       "\n",
       "\n",
       "/* Toggleable style: style used for estimator/Pipeline/ColumnTransformer box that is\n",
       "clickable and can be expanded/collapsed.\n",
       "- Pipeline and ColumnTransformer use this feature and define the default style\n",
       "- Estimators will overwrite some part of the style using the `sk-estimator` class\n",
       "*/\n",
       "\n",
       "/* Pipeline and ColumnTransformer style (default) */\n",
       "\n",
       "#sk-container-id-1 div.sk-toggleable {\n",
       "  /* Default theme specific background. It is overwritten whether we have a\n",
       "  specific estimator or a Pipeline/ColumnTransformer */\n",
       "  background-color: var(--sklearn-color-background);\n",
       "}\n",
       "\n",
       "/* Toggleable label */\n",
       "#sk-container-id-1 label.sk-toggleable__label {\n",
       "  cursor: pointer;\n",
       "  display: block;\n",
       "  width: 100%;\n",
       "  margin-bottom: 0;\n",
       "  padding: 0.5em;\n",
       "  box-sizing: border-box;\n",
       "  text-align: center;\n",
       "}\n",
       "\n",
       "#sk-container-id-1 label.sk-toggleable__label-arrow:before {\n",
       "  /* Arrow on the left of the label */\n",
       "  content: \"▸\";\n",
       "  float: left;\n",
       "  margin-right: 0.25em;\n",
       "  color: var(--sklearn-color-icon);\n",
       "}\n",
       "\n",
       "#sk-container-id-1 label.sk-toggleable__label-arrow:hover:before {\n",
       "  color: var(--sklearn-color-text);\n",
       "}\n",
       "\n",
       "/* Toggleable content - dropdown */\n",
       "\n",
       "#sk-container-id-1 div.sk-toggleable__content {\n",
       "  max-height: 0;\n",
       "  max-width: 0;\n",
       "  overflow: hidden;\n",
       "  text-align: left;\n",
       "  /* unfitted */\n",
       "  background-color: var(--sklearn-color-unfitted-level-0);\n",
       "}\n",
       "\n",
       "#sk-container-id-1 div.sk-toggleable__content.fitted {\n",
       "  /* fitted */\n",
       "  background-color: var(--sklearn-color-fitted-level-0);\n",
       "}\n",
       "\n",
       "#sk-container-id-1 div.sk-toggleable__content pre {\n",
       "  margin: 0.2em;\n",
       "  border-radius: 0.25em;\n",
       "  color: var(--sklearn-color-text);\n",
       "  /* unfitted */\n",
       "  background-color: var(--sklearn-color-unfitted-level-0);\n",
       "}\n",
       "\n",
       "#sk-container-id-1 div.sk-toggleable__content.fitted pre {\n",
       "  /* unfitted */\n",
       "  background-color: var(--sklearn-color-fitted-level-0);\n",
       "}\n",
       "\n",
       "#sk-container-id-1 input.sk-toggleable__control:checked~div.sk-toggleable__content {\n",
       "  /* Expand drop-down */\n",
       "  max-height: 200px;\n",
       "  max-width: 100%;\n",
       "  overflow: auto;\n",
       "}\n",
       "\n",
       "#sk-container-id-1 input.sk-toggleable__control:checked~label.sk-toggleable__label-arrow:before {\n",
       "  content: \"▾\";\n",
       "}\n",
       "\n",
       "/* Pipeline/ColumnTransformer-specific style */\n",
       "\n",
       "#sk-container-id-1 div.sk-label input.sk-toggleable__control:checked~label.sk-toggleable__label {\n",
       "  color: var(--sklearn-color-text);\n",
       "  background-color: var(--sklearn-color-unfitted-level-2);\n",
       "}\n",
       "\n",
       "#sk-container-id-1 div.sk-label.fitted input.sk-toggleable__control:checked~label.sk-toggleable__label {\n",
       "  background-color: var(--sklearn-color-fitted-level-2);\n",
       "}\n",
       "\n",
       "/* Estimator-specific style */\n",
       "\n",
       "/* Colorize estimator box */\n",
       "#sk-container-id-1 div.sk-estimator input.sk-toggleable__control:checked~label.sk-toggleable__label {\n",
       "  /* unfitted */\n",
       "  background-color: var(--sklearn-color-unfitted-level-2);\n",
       "}\n",
       "\n",
       "#sk-container-id-1 div.sk-estimator.fitted input.sk-toggleable__control:checked~label.sk-toggleable__label {\n",
       "  /* fitted */\n",
       "  background-color: var(--sklearn-color-fitted-level-2);\n",
       "}\n",
       "\n",
       "#sk-container-id-1 div.sk-label label.sk-toggleable__label,\n",
       "#sk-container-id-1 div.sk-label label {\n",
       "  /* The background is the default theme color */\n",
       "  color: var(--sklearn-color-text-on-default-background);\n",
       "}\n",
       "\n",
       "/* On hover, darken the color of the background */\n",
       "#sk-container-id-1 div.sk-label:hover label.sk-toggleable__label {\n",
       "  color: var(--sklearn-color-text);\n",
       "  background-color: var(--sklearn-color-unfitted-level-2);\n",
       "}\n",
       "\n",
       "/* Label box, darken color on hover, fitted */\n",
       "#sk-container-id-1 div.sk-label.fitted:hover label.sk-toggleable__label.fitted {\n",
       "  color: var(--sklearn-color-text);\n",
       "  background-color: var(--sklearn-color-fitted-level-2);\n",
       "}\n",
       "\n",
       "/* Estimator label */\n",
       "\n",
       "#sk-container-id-1 div.sk-label label {\n",
       "  font-family: monospace;\n",
       "  font-weight: bold;\n",
       "  display: inline-block;\n",
       "  line-height: 1.2em;\n",
       "}\n",
       "\n",
       "#sk-container-id-1 div.sk-label-container {\n",
       "  text-align: center;\n",
       "}\n",
       "\n",
       "/* Estimator-specific */\n",
       "#sk-container-id-1 div.sk-estimator {\n",
       "  font-family: monospace;\n",
       "  border: 1px dotted var(--sklearn-color-border-box);\n",
       "  border-radius: 0.25em;\n",
       "  box-sizing: border-box;\n",
       "  margin-bottom: 0.5em;\n",
       "  /* unfitted */\n",
       "  background-color: var(--sklearn-color-unfitted-level-0);\n",
       "}\n",
       "\n",
       "#sk-container-id-1 div.sk-estimator.fitted {\n",
       "  /* fitted */\n",
       "  background-color: var(--sklearn-color-fitted-level-0);\n",
       "}\n",
       "\n",
       "/* on hover */\n",
       "#sk-container-id-1 div.sk-estimator:hover {\n",
       "  /* unfitted */\n",
       "  background-color: var(--sklearn-color-unfitted-level-2);\n",
       "}\n",
       "\n",
       "#sk-container-id-1 div.sk-estimator.fitted:hover {\n",
       "  /* fitted */\n",
       "  background-color: var(--sklearn-color-fitted-level-2);\n",
       "}\n",
       "\n",
       "/* Specification for estimator info (e.g. \"i\" and \"?\") */\n",
       "\n",
       "/* Common style for \"i\" and \"?\" */\n",
       "\n",
       ".sk-estimator-doc-link,\n",
       "a:link.sk-estimator-doc-link,\n",
       "a:visited.sk-estimator-doc-link {\n",
       "  float: right;\n",
       "  font-size: smaller;\n",
       "  line-height: 1em;\n",
       "  font-family: monospace;\n",
       "  background-color: var(--sklearn-color-background);\n",
       "  border-radius: 1em;\n",
       "  height: 1em;\n",
       "  width: 1em;\n",
       "  text-decoration: none !important;\n",
       "  margin-left: 1ex;\n",
       "  /* unfitted */\n",
       "  border: var(--sklearn-color-unfitted-level-1) 1pt solid;\n",
       "  color: var(--sklearn-color-unfitted-level-1);\n",
       "}\n",
       "\n",
       ".sk-estimator-doc-link.fitted,\n",
       "a:link.sk-estimator-doc-link.fitted,\n",
       "a:visited.sk-estimator-doc-link.fitted {\n",
       "  /* fitted */\n",
       "  border: var(--sklearn-color-fitted-level-1) 1pt solid;\n",
       "  color: var(--sklearn-color-fitted-level-1);\n",
       "}\n",
       "\n",
       "/* On hover */\n",
       "div.sk-estimator:hover .sk-estimator-doc-link:hover,\n",
       ".sk-estimator-doc-link:hover,\n",
       "div.sk-label-container:hover .sk-estimator-doc-link:hover,\n",
       ".sk-estimator-doc-link:hover {\n",
       "  /* unfitted */\n",
       "  background-color: var(--sklearn-color-unfitted-level-3);\n",
       "  color: var(--sklearn-color-background);\n",
       "  text-decoration: none;\n",
       "}\n",
       "\n",
       "div.sk-estimator.fitted:hover .sk-estimator-doc-link.fitted:hover,\n",
       ".sk-estimator-doc-link.fitted:hover,\n",
       "div.sk-label-container:hover .sk-estimator-doc-link.fitted:hover,\n",
       ".sk-estimator-doc-link.fitted:hover {\n",
       "  /* fitted */\n",
       "  background-color: var(--sklearn-color-fitted-level-3);\n",
       "  color: var(--sklearn-color-background);\n",
       "  text-decoration: none;\n",
       "}\n",
       "\n",
       "/* Span, style for the box shown on hovering the info icon */\n",
       ".sk-estimator-doc-link span {\n",
       "  display: none;\n",
       "  z-index: 9999;\n",
       "  position: relative;\n",
       "  font-weight: normal;\n",
       "  right: .2ex;\n",
       "  padding: .5ex;\n",
       "  margin: .5ex;\n",
       "  width: min-content;\n",
       "  min-width: 20ex;\n",
       "  max-width: 50ex;\n",
       "  color: var(--sklearn-color-text);\n",
       "  box-shadow: 2pt 2pt 4pt #999;\n",
       "  /* unfitted */\n",
       "  background: var(--sklearn-color-unfitted-level-0);\n",
       "  border: .5pt solid var(--sklearn-color-unfitted-level-3);\n",
       "}\n",
       "\n",
       ".sk-estimator-doc-link.fitted span {\n",
       "  /* fitted */\n",
       "  background: var(--sklearn-color-fitted-level-0);\n",
       "  border: var(--sklearn-color-fitted-level-3);\n",
       "}\n",
       "\n",
       ".sk-estimator-doc-link:hover span {\n",
       "  display: block;\n",
       "}\n",
       "\n",
       "/* \"?\"-specific style due to the `<a>` HTML tag */\n",
       "\n",
       "#sk-container-id-1 a.estimator_doc_link {\n",
       "  float: right;\n",
       "  font-size: 1rem;\n",
       "  line-height: 1em;\n",
       "  font-family: monospace;\n",
       "  background-color: var(--sklearn-color-background);\n",
       "  border-radius: 1rem;\n",
       "  height: 1rem;\n",
       "  width: 1rem;\n",
       "  text-decoration: none;\n",
       "  /* unfitted */\n",
       "  color: var(--sklearn-color-unfitted-level-1);\n",
       "  border: var(--sklearn-color-unfitted-level-1) 1pt solid;\n",
       "}\n",
       "\n",
       "#sk-container-id-1 a.estimator_doc_link.fitted {\n",
       "  /* fitted */\n",
       "  border: var(--sklearn-color-fitted-level-1) 1pt solid;\n",
       "  color: var(--sklearn-color-fitted-level-1);\n",
       "}\n",
       "\n",
       "/* On hover */\n",
       "#sk-container-id-1 a.estimator_doc_link:hover {\n",
       "  /* unfitted */\n",
       "  background-color: var(--sklearn-color-unfitted-level-3);\n",
       "  color: var(--sklearn-color-background);\n",
       "  text-decoration: none;\n",
       "}\n",
       "\n",
       "#sk-container-id-1 a.estimator_doc_link.fitted:hover {\n",
       "  /* fitted */\n",
       "  background-color: var(--sklearn-color-fitted-level-3);\n",
       "}\n",
       "</style><div id=\"sk-container-id-1\" class=\"sk-top-container\"><div class=\"sk-text-repr-fallback\"><pre>LinearRegression()</pre><b>In a Jupyter environment, please rerun this cell to show the HTML representation or trust the notebook. <br />On GitHub, the HTML representation is unable to render, please try loading this page with nbviewer.org.</b></div><div class=\"sk-container\" hidden><div class=\"sk-item\"><div class=\"sk-estimator fitted sk-toggleable\"><input class=\"sk-toggleable__control sk-hidden--visually\" id=\"sk-estimator-id-1\" type=\"checkbox\" checked><label for=\"sk-estimator-id-1\" class=\"sk-toggleable__label fitted sk-toggleable__label-arrow fitted\">&nbsp;&nbsp;LinearRegression<a class=\"sk-estimator-doc-link fitted\" rel=\"noreferrer\" target=\"_blank\" href=\"https://scikit-learn.org/1.5/modules/generated/sklearn.linear_model.LinearRegression.html\">?<span>Documentation for LinearRegression</span></a><span class=\"sk-estimator-doc-link fitted\">i<span>Fitted</span></span></label><div class=\"sk-toggleable__content fitted\"><pre>LinearRegression()</pre></div> </div></div></div></div>"
      ],
      "text/plain": [
       "LinearRegression()"
      ]
     },
     "execution_count": 20,
     "metadata": {},
     "output_type": "execute_result"
    }
   ],
   "source": [
    "regression.fit(X_train, y_train)"
   ]
  },
  {
   "cell_type": "markdown",
   "id": "3ea444fb-331e-40f0-b5e8-0ca3c313c6b4",
   "metadata": {},
   "source": [
    "Burada yazdığımız şekilde bu basitlikle direkt Lineer Regresyon modelimizi eğitebiliyoruz. Şimdi denklem ne çıkmış onu görelim."
   ]
  },
  {
   "cell_type": "code",
   "execution_count": 21,
   "id": "3b39b033-eb6b-46ce-b1b3-e0483b8b441f",
   "metadata": {},
   "outputs": [
    {
     "name": "stdout",
     "output_type": "stream",
     "text": [
      "Coefficent :  [16.62090879]\n",
      "Intercept :  71.61923076923077\n"
     ]
    }
   ],
   "source": [
    "print(\"Coefficent : \" , regression.coef_)\n",
    "print(\"Intercept : \", regression.intercept_)"
   ]
  },
  {
   "cell_type": "markdown",
   "id": "049e4fa8-1d6b-48f2-8f48-bafa03ea5a02",
   "metadata": {},
   "source": [
    "Bu denklemin şu olduğunu bize gösteriyor :\n",
    "\n",
    "*y = 71.61 + 16.62x*"
   ]
  },
  {
   "cell_type": "code",
   "execution_count": 22,
   "id": "48499bb2-9b14-47bc-ad50-7749dfae721a",
   "metadata": {},
   "outputs": [
    {
     "data": {
      "image/png": "[encoded data removed]",
      "text/plain": [
       "<Figure size 640x480 with 1 Axes>"
      ]
     },
     "metadata": {},
     "output_type": "display_data"
    }
   ],
   "source": [
    "plt.scatter(X_train, y_train)\n",
    "plt.xlabel(\"X değerleri\")\n",
    "plt.ylabel(\"y değerleri\")\n",
    "plt.plot(X_train, regression.predict(X_train), \"brown\")\n",
    "plt.show()"
   ]
  },
  {
   "cell_type": "markdown",
   "id": "beab7254-71a6-4537-a087-32f7685b42ac",
   "metadata": {},
   "source": [
    "Şimdi aşağıda x değeri 20 olursa yani 20 saat çalışırsa kaç gelir onu tahmin etmeye çalışacağız."
   ]
  },
  {
   "cell_type": "code",
   "execution_count": 23,
   "id": "8eb60372-4a67-46c3-aceb-64db3c2c6a05",
   "metadata": {},
   "outputs": [
    {
     "data": {
      "text/plain": [
       "array([404.03740665])"
      ]
     },
     "execution_count": 23,
     "metadata": {},
     "output_type": "execute_result"
    }
   ],
   "source": [
    "regression.predict([[20]])   # Burada dediğim gibi iki kapalı parantez içerisine yazmamız gerekiyor."
   ]
  },
  {
   "cell_type": "markdown",
   "id": "be3d3583-8fbf-4f6a-9ffc-0c7a56cd3f57",
   "metadata": {},
   "source": [
    "Gördüğümüz üzere 400 küsürlü bir değer çıktı ama bu değer hatalı. Bunun sebebi ise biz bu X girdilerini scale ederek vermiştik. O yüzden tahmin yaparken de scale etmemiz gerekiyor."
   ]
  },
  {
   "cell_type": "code",
   "execution_count": 24,
   "id": "888b7f4f-bc44-42a3-8c9e-bce41e38aa32",
   "metadata": {},
   "outputs": [
    {
     "name": "stderr",
     "output_type": "stream",
     "text": [
      "C:\\ProgramData\\anaconda3\\Lib\\site-packages\\sklearn\\base.py:493: UserWarning: X does not have valid feature names, but StandardScaler was fitted with feature names\n",
      "  warnings.warn(\n"
     ]
    },
    {
     "data": {
      "text/plain": [
       "array([82.98309269])"
      ]
     },
     "execution_count": 24,
     "metadata": {},
     "output_type": "execute_result"
    }
   ],
   "source": [
    "regression.predict(scaler.transform([[20]]))"
   ]
  },
  {
   "cell_type": "markdown",
   "id": "160f98e0-732c-4312-8a80-578f4681eda4",
   "metadata": {},
   "source": [
    "Bu şekilde predict içerisinde transform ederek verirsek gerçekte 20 saat çalışan birinin modelin tahminine göre 82.9 alacağını görmüş oluruz."
   ]
  },
  {
   "cell_type": "markdown",
   "id": "a4c04c7c-2cd2-4d0e-aac2-82d36c3b150d",
   "metadata": {},
   "source": [
    "---\n",
    "# MODELİ TEST ETMEK"
   ]
  },
  {
   "cell_type": "markdown",
   "id": "5cfd366a-0e5f-486f-aef7-e1390b5c3de0",
   "metadata": {},
   "source": [
    "Modelin kendi içerisinde başarısını ölçmek istiyorsak R^2 vs kullanabiliriz. Başka modellerle kıyaslamak için MSE falan kullanılabilir."
   ]
  },
  {
   "cell_type": "code",
   "execution_count": 25,
   "id": "74c56baf-32f7-4497-968c-f392cfaf084b",
   "metadata": {},
   "outputs": [],
   "source": [
    "y_pred_test = regression.predict(X_test)"
   ]
  },
  {
   "cell_type": "code",
   "execution_count": 26,
   "id": "7ba2d67d-9cdd-4bc2-88db-d1b660207d24",
   "metadata": {},
   "outputs": [
    {
     "data": {
      "text/plain": [
       "31     96.2\n",
       "15     97.0\n",
       "10     92.4\n",
       "20     49.0\n",
       "17     74.7\n",
       "13    100.0\n",
       "7      90.8\n",
       "Name: Exam Score, dtype: float64"
      ]
     },
     "execution_count": 26,
     "metadata": {},
     "output_type": "execute_result"
    }
   ],
   "source": [
    "y_test"
   ]
  },
  {
   "cell_type": "markdown",
   "id": "4bffc224-0c62-48e7-914f-3a4e150556f8",
   "metadata": {},
   "source": [
    "Ben normalde y_test kısmında gerçek çalışma ve gerçek alınan skorlardan oluşan bir test verisi saklıyordum. Bu test verisi ile bu verinin predict edilmiş halini kıyaslayacağım."
   ]
  },
  {
   "cell_type": "code",
   "execution_count": 27,
   "id": "76e6cd7e-210c-43a2-8574-926da2a916e9",
   "metadata": {},
   "outputs": [
    {
     "data": {
      "image/png": "[encoded data removed]",
      "text/plain": [
       "<Figure size 640x480 with 1 Axes>"
      ]
     },
     "metadata": {},
     "output_type": "display_data"
    }
   ],
   "source": [
    "plt.scatter(X_test, y_test)\n",
    "plt.plot(X_test, regression.predict(X_test) , \"r\")\n",
    "plt.show()"
   ]
  },
  {
   "cell_type": "code",
   "execution_count": 28,
   "id": "49f91a3c-7175-4826-ad4b-fa25cfc1f0c9",
   "metadata": {},
   "outputs": [],
   "source": [
    "from sklearn.metrics import mean_absolute_error, mean_squared_error, r2_score"
   ]
  },
  {
   "cell_type": "code",
   "execution_count": 29,
   "id": "3dc53403-3730-4e78-aac4-08513239eb67",
   "metadata": {},
   "outputs": [
    {
     "name": "stdout",
     "output_type": "stream",
     "text": [
      "mse :  70.09408433907734\n",
      "mae :  5.829955546072057\n",
      "rmse :  8.372220992011458\n"
     ]
    }
   ],
   "source": [
    "mae = mean_absolute_error(y_test, y_pred_test)\n",
    "mse = mean_squared_error(y_test, y_pred_test)\n",
    "rmse = np.sqrt(mse)\n",
    "\n",
    "print(\"mse : \", mse)\n",
    "print(\"mae : \", mae)\n",
    "print(\"rmse : \", rmse)"
   ]
  },
  {
   "cell_type": "markdown",
   "id": "32e81bbe-b491-4b7f-9ee5-3f0d456d6db0",
   "metadata": {},
   "source": [
    "Bunlar tek başlarına oldukları için bize çok bir fikir vermez."
   ]
  },
  {
   "cell_type": "code",
   "execution_count": 30,
   "id": "d882e403-75e7-490b-8040-ac8618ce47db",
   "metadata": {},
   "outputs": [
    {
     "name": "stdout",
     "output_type": "stream",
     "text": [
      "r2 score :  0.7523445121956382\n"
     ]
    }
   ],
   "source": [
    "r2 = r2_score(y_test, y_pred_test)\n",
    "print(\"r2 score : \", r2)"
   ]
  },
  {
   "cell_type": "code",
   "execution_count": 31,
   "id": "0c28a4d4-fb84-4225-8c4b-937a49c0bdeb",
   "metadata": {},
   "outputs": [
    {
     "data": {
      "text/plain": [
       "0.7028134146347659"
      ]
     },
     "execution_count": 31,
     "metadata": {},
     "output_type": "execute_result"
    }
   ],
   "source": [
    "#adjusted R-squared\n",
    "# Bunu internetten copy past yaparak bulabililirsiniz dedi.\n",
    "1 - (1-r2)*(len(y_test)-1)/(len(y_test)-X_test.shape[1]-1)"
   ]
  },
  {
   "cell_type": "code",
   "execution_count": null,
   "id": "1e7924f0-a594-4b0b-b4c8-26837a4998d6",
   "metadata": {},
   "outputs": [],
   "source": []
  }
 ],
 "metadata": {
  "kernelspec": {
   "display_name": "Python 3 (ipykernel)",
   "language": "python",
   "name": "python3"
  },
  "language_info": {
   "codemirror_mode": {
    "name": "ipython",
    "version": 3
   },
   "file_extension": ".py",
   "mimetype": "text/x-python",
   "name": "python",
   "nbconvert_exporter": "python",
   "pygments_lexer": "ipython3",
   "version": "3.12.7"
  }
 },
 "nbformat": 4,
 "nbformat_minor": 5
}
